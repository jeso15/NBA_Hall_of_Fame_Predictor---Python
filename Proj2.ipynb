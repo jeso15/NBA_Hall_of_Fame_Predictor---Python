{
 "cells": [
  {
   "cell_type": "code",
   "execution_count": 459,
   "id": "97e86db9",
   "metadata": {},
   "outputs": [],
   "source": [
    "import random\n",
    "import pandas as pd\n",
    "import numpy as np\n",
    "import matplotlib as plt\n",
    "import seaborn as sns\n",
    "import matplotlib.pyplot as plt\n",
    "from sklearn.naive_bayes import MultinomialNB\n",
    "from sklearn.metrics import confusion_matrix, accuracy_score, plot_confusion_matrix\n",
    "from sklearn.metrics import r2_score\n",
    "from sklearn.linear_model import LinearRegression\n",
    "from sklearn.linear_model import Ridge\n",
    "from sklearn.neighbors import KNeighborsClassifier\n",
    "from sklearn.ensemble import RandomForestClassifier\n",
    "import matplotlib.pyplot as plt\n",
    "from sklearn.datasets import make_classification\n",
    "from sklearn.model_selection import train_test_split\n",
    "from sklearn.svm import SVC\n",
    "from sklearn.model_selection import StratifiedKFold\n",
    "from sklearn.ensemble import GradientBoostingClassifier"
   ]
  },
  {
   "cell_type": "markdown",
   "id": "5f169906",
   "metadata": {},
   "source": [
    "# NBA players making it to the Hall of Fame"
   ]
  },
  {
   "cell_type": "code",
   "execution_count": 460,
   "id": "91d0799c",
   "metadata": {},
   "outputs": [
    {
     "data": {
      "text/html": [
       "<div>\n",
       "<style scoped>\n",
       "    .dataframe tbody tr th:only-of-type {\n",
       "        vertical-align: middle;\n",
       "    }\n",
       "\n",
       "    .dataframe tbody tr th {\n",
       "        vertical-align: top;\n",
       "    }\n",
       "\n",
       "    .dataframe thead th {\n",
       "        text-align: right;\n",
       "    }\n",
       "</style>\n",
       "<table border=\"1\" class=\"dataframe\">\n",
       "  <thead>\n",
       "    <tr style=\"text-align: right;\">\n",
       "      <th></th>\n",
       "      <th>Name</th>\n",
       "      <th>position</th>\n",
       "      <th>All_star_selections</th>\n",
       "      <th>In_Hall_of_fame</th>\n",
       "      <th>height</th>\n",
       "      <th>weight</th>\n",
       "      <th>born</th>\n",
       "    </tr>\n",
       "  </thead>\n",
       "  <tbody>\n",
       "    <tr>\n",
       "      <th>0</th>\n",
       "      <td>Kareem Abdul-Jabbar</td>\n",
       "      <td>C</td>\n",
       "      <td>19</td>\n",
       "      <td>1</td>\n",
       "      <td>218</td>\n",
       "      <td>102</td>\n",
       "      <td>1947</td>\n",
       "    </tr>\n",
       "    <tr>\n",
       "      <th>1</th>\n",
       "      <td>Kobe Bryant</td>\n",
       "      <td>G</td>\n",
       "      <td>18</td>\n",
       "      <td>1</td>\n",
       "      <td>198</td>\n",
       "      <td>96</td>\n",
       "      <td>1978</td>\n",
       "    </tr>\n",
       "    <tr>\n",
       "      <th>2</th>\n",
       "      <td>LeBron James</td>\n",
       "      <td>F</td>\n",
       "      <td>17</td>\n",
       "      <td>2</td>\n",
       "      <td>203</td>\n",
       "      <td>113</td>\n",
       "      <td>1984</td>\n",
       "    </tr>\n",
       "    <tr>\n",
       "      <th>3</th>\n",
       "      <td>Tim Duncan</td>\n",
       "      <td>F</td>\n",
       "      <td>15</td>\n",
       "      <td>1</td>\n",
       "      <td>211</td>\n",
       "      <td>113</td>\n",
       "      <td>1976</td>\n",
       "    </tr>\n",
       "    <tr>\n",
       "      <th>4</th>\n",
       "      <td>Kevin Garnett</td>\n",
       "      <td>F</td>\n",
       "      <td>15</td>\n",
       "      <td>1</td>\n",
       "      <td>211</td>\n",
       "      <td>108</td>\n",
       "      <td>1976</td>\n",
       "    </tr>\n",
       "    <tr>\n",
       "      <th>...</th>\n",
       "      <td>...</td>\n",
       "      <td>...</td>\n",
       "      <td>...</td>\n",
       "      <td>...</td>\n",
       "      <td>...</td>\n",
       "      <td>...</td>\n",
       "      <td>...</td>\n",
       "    </tr>\n",
       "    <tr>\n",
       "      <th>432</th>\n",
       "      <td>Julius Randle</td>\n",
       "      <td>F</td>\n",
       "      <td>1</td>\n",
       "      <td>2</td>\n",
       "      <td>206</td>\n",
       "      <td>113</td>\n",
       "      <td>1994</td>\n",
       "    </tr>\n",
       "    <tr>\n",
       "      <th>433</th>\n",
       "      <td>Pascal Siakam</td>\n",
       "      <td>F</td>\n",
       "      <td>1</td>\n",
       "      <td>2</td>\n",
       "      <td>206</td>\n",
       "      <td>104</td>\n",
       "      <td>1994</td>\n",
       "    </tr>\n",
       "    <tr>\n",
       "      <th>434</th>\n",
       "      <td>DeAndre Jordan</td>\n",
       "      <td>C</td>\n",
       "      <td>1</td>\n",
       "      <td>2</td>\n",
       "      <td>211</td>\n",
       "      <td>120</td>\n",
       "      <td>1988</td>\n",
       "    </tr>\n",
       "    <tr>\n",
       "      <th>435</th>\n",
       "      <td>Brook Lopez</td>\n",
       "      <td>C</td>\n",
       "      <td>1</td>\n",
       "      <td>2</td>\n",
       "      <td>213</td>\n",
       "      <td>124</td>\n",
       "      <td>1988</td>\n",
       "    </tr>\n",
       "    <tr>\n",
       "      <th>436</th>\n",
       "      <td>Kristaps Porzingis</td>\n",
       "      <td>F</td>\n",
       "      <td>1</td>\n",
       "      <td>2</td>\n",
       "      <td>221</td>\n",
       "      <td>108</td>\n",
       "      <td>1995</td>\n",
       "    </tr>\n",
       "  </tbody>\n",
       "</table>\n",
       "<p>437 rows × 7 columns</p>\n",
       "</div>"
      ],
      "text/plain": [
       "                    Name position  All_star_selections  In_Hall_of_fame  \\\n",
       "0    Kareem Abdul-Jabbar        C                   19                1   \n",
       "1            Kobe Bryant        G                   18                1   \n",
       "2           LeBron James        F                   17                2   \n",
       "3             Tim Duncan        F                   15                1   \n",
       "4          Kevin Garnett        F                   15                1   \n",
       "..                   ...      ...                  ...              ...   \n",
       "432        Julius Randle        F                    1                2   \n",
       "433        Pascal Siakam        F                    1                2   \n",
       "434       DeAndre Jordan        C                    1                2   \n",
       "435          Brook Lopez        C                    1                2   \n",
       "436   Kristaps Porzingis        F                    1                2   \n",
       "\n",
       "     height  weight  born  \n",
       "0       218     102  1947  \n",
       "1       198      96  1978  \n",
       "2       203     113  1984  \n",
       "3       211     113  1976  \n",
       "4       211     108  1976  \n",
       "..      ...     ...   ...  \n",
       "432     206     113  1994  \n",
       "433     206     104  1994  \n",
       "434     211     120  1988  \n",
       "435     213     124  1988  \n",
       "436     221     108  1995  \n",
       "\n",
       "[437 rows x 7 columns]"
      ]
     },
     "execution_count": 460,
     "metadata": {},
     "output_type": "execute_result"
    }
   ],
   "source": [
    "df = pd.read_csv(\"NBA Hall of Famers 2021.csv\")\n",
    "df"
   ]
  },
  {
   "cell_type": "markdown",
   "id": "82d2bc8e",
   "metadata": {},
   "source": [
    "### Dummy variables for the position of each players"
   ]
  },
  {
   "cell_type": "code",
   "execution_count": 461,
   "id": "60e2c7bb",
   "metadata": {},
   "outputs": [
    {
     "data": {
      "text/html": [
       "<div>\n",
       "<style scoped>\n",
       "    .dataframe tbody tr th:only-of-type {\n",
       "        vertical-align: middle;\n",
       "    }\n",
       "\n",
       "    .dataframe tbody tr th {\n",
       "        vertical-align: top;\n",
       "    }\n",
       "\n",
       "    .dataframe thead th {\n",
       "        text-align: right;\n",
       "    }\n",
       "</style>\n",
       "<table border=\"1\" class=\"dataframe\">\n",
       "  <thead>\n",
       "    <tr style=\"text-align: right;\">\n",
       "      <th></th>\n",
       "      <th>Center</th>\n",
       "      <th>Forward</th>\n",
       "      <th>Guard</th>\n",
       "    </tr>\n",
       "  </thead>\n",
       "  <tbody>\n",
       "    <tr>\n",
       "      <th>0</th>\n",
       "      <td>1</td>\n",
       "      <td>0</td>\n",
       "      <td>0</td>\n",
       "    </tr>\n",
       "    <tr>\n",
       "      <th>1</th>\n",
       "      <td>0</td>\n",
       "      <td>0</td>\n",
       "      <td>1</td>\n",
       "    </tr>\n",
       "    <tr>\n",
       "      <th>2</th>\n",
       "      <td>0</td>\n",
       "      <td>1</td>\n",
       "      <td>0</td>\n",
       "    </tr>\n",
       "    <tr>\n",
       "      <th>3</th>\n",
       "      <td>0</td>\n",
       "      <td>1</td>\n",
       "      <td>0</td>\n",
       "    </tr>\n",
       "    <tr>\n",
       "      <th>4</th>\n",
       "      <td>0</td>\n",
       "      <td>1</td>\n",
       "      <td>0</td>\n",
       "    </tr>\n",
       "  </tbody>\n",
       "</table>\n",
       "</div>"
      ],
      "text/plain": [
       "   Center  Forward  Guard\n",
       "0       1        0      0\n",
       "1       0        0      1\n",
       "2       0        1      0\n",
       "3       0        1      0\n",
       "4       0        1      0"
      ]
     },
     "execution_count": 461,
     "metadata": {},
     "output_type": "execute_result"
    }
   ],
   "source": [
    "dummy_var_1 = pd.get_dummies(df['position'])\n",
    "dummy_var_1.rename(columns = {'C': 'Center', 'F': 'Forward', 'G':'Guard'},inplace = True)\n",
    "df = pd.concat([df, dummy_var_1], axis = 1)\n",
    "dummy_var_1.head(5)"
   ]
  },
  {
   "cell_type": "markdown",
   "id": "aa4b5785",
   "metadata": {},
   "source": [
    "### Remove the column Name and position\n"
   ]
  },
  {
   "cell_type": "code",
   "execution_count": 462,
   "id": "2b352ad5",
   "metadata": {},
   "outputs": [
    {
     "data": {
      "text/html": [
       "<div>\n",
       "<style scoped>\n",
       "    .dataframe tbody tr th:only-of-type {\n",
       "        vertical-align: middle;\n",
       "    }\n",
       "\n",
       "    .dataframe tbody tr th {\n",
       "        vertical-align: top;\n",
       "    }\n",
       "\n",
       "    .dataframe thead th {\n",
       "        text-align: right;\n",
       "    }\n",
       "</style>\n",
       "<table border=\"1\" class=\"dataframe\">\n",
       "  <thead>\n",
       "    <tr style=\"text-align: right;\">\n",
       "      <th></th>\n",
       "      <th>All_star_selections</th>\n",
       "      <th>In_Hall_of_fame</th>\n",
       "      <th>height</th>\n",
       "      <th>weight</th>\n",
       "      <th>born</th>\n",
       "      <th>Center</th>\n",
       "      <th>Forward</th>\n",
       "      <th>Guard</th>\n",
       "    </tr>\n",
       "  </thead>\n",
       "  <tbody>\n",
       "    <tr>\n",
       "      <th>0</th>\n",
       "      <td>19</td>\n",
       "      <td>1</td>\n",
       "      <td>218</td>\n",
       "      <td>102</td>\n",
       "      <td>1947</td>\n",
       "      <td>1</td>\n",
       "      <td>0</td>\n",
       "      <td>0</td>\n",
       "    </tr>\n",
       "    <tr>\n",
       "      <th>1</th>\n",
       "      <td>18</td>\n",
       "      <td>1</td>\n",
       "      <td>198</td>\n",
       "      <td>96</td>\n",
       "      <td>1978</td>\n",
       "      <td>0</td>\n",
       "      <td>0</td>\n",
       "      <td>1</td>\n",
       "    </tr>\n",
       "    <tr>\n",
       "      <th>2</th>\n",
       "      <td>17</td>\n",
       "      <td>2</td>\n",
       "      <td>203</td>\n",
       "      <td>113</td>\n",
       "      <td>1984</td>\n",
       "      <td>0</td>\n",
       "      <td>1</td>\n",
       "      <td>0</td>\n",
       "    </tr>\n",
       "    <tr>\n",
       "      <th>3</th>\n",
       "      <td>15</td>\n",
       "      <td>1</td>\n",
       "      <td>211</td>\n",
       "      <td>113</td>\n",
       "      <td>1976</td>\n",
       "      <td>0</td>\n",
       "      <td>1</td>\n",
       "      <td>0</td>\n",
       "    </tr>\n",
       "    <tr>\n",
       "      <th>4</th>\n",
       "      <td>15</td>\n",
       "      <td>1</td>\n",
       "      <td>211</td>\n",
       "      <td>108</td>\n",
       "      <td>1976</td>\n",
       "      <td>0</td>\n",
       "      <td>1</td>\n",
       "      <td>0</td>\n",
       "    </tr>\n",
       "    <tr>\n",
       "      <th>...</th>\n",
       "      <td>...</td>\n",
       "      <td>...</td>\n",
       "      <td>...</td>\n",
       "      <td>...</td>\n",
       "      <td>...</td>\n",
       "      <td>...</td>\n",
       "      <td>...</td>\n",
       "      <td>...</td>\n",
       "    </tr>\n",
       "    <tr>\n",
       "      <th>432</th>\n",
       "      <td>1</td>\n",
       "      <td>2</td>\n",
       "      <td>206</td>\n",
       "      <td>113</td>\n",
       "      <td>1994</td>\n",
       "      <td>0</td>\n",
       "      <td>1</td>\n",
       "      <td>0</td>\n",
       "    </tr>\n",
       "    <tr>\n",
       "      <th>433</th>\n",
       "      <td>1</td>\n",
       "      <td>2</td>\n",
       "      <td>206</td>\n",
       "      <td>104</td>\n",
       "      <td>1994</td>\n",
       "      <td>0</td>\n",
       "      <td>1</td>\n",
       "      <td>0</td>\n",
       "    </tr>\n",
       "    <tr>\n",
       "      <th>434</th>\n",
       "      <td>1</td>\n",
       "      <td>2</td>\n",
       "      <td>211</td>\n",
       "      <td>120</td>\n",
       "      <td>1988</td>\n",
       "      <td>1</td>\n",
       "      <td>0</td>\n",
       "      <td>0</td>\n",
       "    </tr>\n",
       "    <tr>\n",
       "      <th>435</th>\n",
       "      <td>1</td>\n",
       "      <td>2</td>\n",
       "      <td>213</td>\n",
       "      <td>124</td>\n",
       "      <td>1988</td>\n",
       "      <td>1</td>\n",
       "      <td>0</td>\n",
       "      <td>0</td>\n",
       "    </tr>\n",
       "    <tr>\n",
       "      <th>436</th>\n",
       "      <td>1</td>\n",
       "      <td>2</td>\n",
       "      <td>221</td>\n",
       "      <td>108</td>\n",
       "      <td>1995</td>\n",
       "      <td>0</td>\n",
       "      <td>1</td>\n",
       "      <td>0</td>\n",
       "    </tr>\n",
       "  </tbody>\n",
       "</table>\n",
       "<p>437 rows × 8 columns</p>\n",
       "</div>"
      ],
      "text/plain": [
       "     All_star_selections  In_Hall_of_fame  height  weight  born  Center  \\\n",
       "0                     19                1     218     102  1947       1   \n",
       "1                     18                1     198      96  1978       0   \n",
       "2                     17                2     203     113  1984       0   \n",
       "3                     15                1     211     113  1976       0   \n",
       "4                     15                1     211     108  1976       0   \n",
       "..                   ...              ...     ...     ...   ...     ...   \n",
       "432                    1                2     206     113  1994       0   \n",
       "433                    1                2     206     104  1994       0   \n",
       "434                    1                2     211     120  1988       1   \n",
       "435                    1                2     213     124  1988       1   \n",
       "436                    1                2     221     108  1995       0   \n",
       "\n",
       "     Forward  Guard  \n",
       "0          0      0  \n",
       "1          0      1  \n",
       "2          1      0  \n",
       "3          1      0  \n",
       "4          1      0  \n",
       "..       ...    ...  \n",
       "432        1      0  \n",
       "433        1      0  \n",
       "434        0      0  \n",
       "435        0      0  \n",
       "436        1      0  \n",
       "\n",
       "[437 rows x 8 columns]"
      ]
     },
     "execution_count": 462,
     "metadata": {},
     "output_type": "execute_result"
    }
   ],
   "source": [
    "\n",
    "\n",
    "df = df.drop(['position', 'Name'],1)\n",
    "df"
   ]
  },
  {
   "cell_type": "markdown",
   "id": "efa5efd8",
   "metadata": {},
   "source": [
    "### Check how many players are currently playing"
   ]
  },
  {
   "cell_type": "code",
   "execution_count": 463,
   "id": "cdb5778d",
   "metadata": {},
   "outputs": [
    {
     "data": {
      "text/plain": [
       "64"
      ]
     },
     "execution_count": 463,
     "metadata": {},
     "output_type": "execute_result"
    }
   ],
   "source": [
    "(df['In_Hall_of_fame'] == 2).sum()"
   ]
  },
  {
   "cell_type": "code",
   "execution_count": 464,
   "id": "8e0e7d3b",
   "metadata": {},
   "outputs": [
    {
     "data": {
      "text/html": [
       "<div>\n",
       "<style scoped>\n",
       "    .dataframe tbody tr th:only-of-type {\n",
       "        vertical-align: middle;\n",
       "    }\n",
       "\n",
       "    .dataframe tbody tr th {\n",
       "        vertical-align: top;\n",
       "    }\n",
       "\n",
       "    .dataframe thead th {\n",
       "        text-align: right;\n",
       "    }\n",
       "</style>\n",
       "<table border=\"1\" class=\"dataframe\">\n",
       "  <thead>\n",
       "    <tr style=\"text-align: right;\">\n",
       "      <th></th>\n",
       "      <th>All_star_selections</th>\n",
       "      <th>In_Hall_of_fame</th>\n",
       "      <th>height</th>\n",
       "      <th>weight</th>\n",
       "      <th>born</th>\n",
       "      <th>Center</th>\n",
       "      <th>Forward</th>\n",
       "      <th>Guard</th>\n",
       "    </tr>\n",
       "  </thead>\n",
       "  <tbody>\n",
       "    <tr>\n",
       "      <th>2</th>\n",
       "      <td>17</td>\n",
       "      <td>2</td>\n",
       "      <td>203</td>\n",
       "      <td>113</td>\n",
       "      <td>1984</td>\n",
       "      <td>0</td>\n",
       "      <td>1</td>\n",
       "      <td>0</td>\n",
       "    </tr>\n",
       "    <tr>\n",
       "      <th>30</th>\n",
       "      <td>11</td>\n",
       "      <td>2</td>\n",
       "      <td>183</td>\n",
       "      <td>79</td>\n",
       "      <td>1985</td>\n",
       "      <td>0</td>\n",
       "      <td>0</td>\n",
       "      <td>1</td>\n",
       "    </tr>\n",
       "    <tr>\n",
       "      <th>31</th>\n",
       "      <td>11</td>\n",
       "      <td>2</td>\n",
       "      <td>206</td>\n",
       "      <td>108</td>\n",
       "      <td>1988</td>\n",
       "      <td>0</td>\n",
       "      <td>1</td>\n",
       "      <td>0</td>\n",
       "    </tr>\n",
       "    <tr>\n",
       "      <th>40</th>\n",
       "      <td>10</td>\n",
       "      <td>2</td>\n",
       "      <td>203</td>\n",
       "      <td>108</td>\n",
       "      <td>1984</td>\n",
       "      <td>0</td>\n",
       "      <td>1</td>\n",
       "      <td>0</td>\n",
       "    </tr>\n",
       "    <tr>\n",
       "      <th>46</th>\n",
       "      <td>9</td>\n",
       "      <td>2</td>\n",
       "      <td>190</td>\n",
       "      <td>90</td>\n",
       "      <td>1988</td>\n",
       "      <td>0</td>\n",
       "      <td>0</td>\n",
       "      <td>1</td>\n",
       "    </tr>\n",
       "    <tr>\n",
       "      <th>...</th>\n",
       "      <td>...</td>\n",
       "      <td>...</td>\n",
       "      <td>...</td>\n",
       "      <td>...</td>\n",
       "      <td>...</td>\n",
       "      <td>...</td>\n",
       "      <td>...</td>\n",
       "      <td>...</td>\n",
       "    </tr>\n",
       "    <tr>\n",
       "      <th>432</th>\n",
       "      <td>1</td>\n",
       "      <td>2</td>\n",
       "      <td>206</td>\n",
       "      <td>113</td>\n",
       "      <td>1994</td>\n",
       "      <td>0</td>\n",
       "      <td>1</td>\n",
       "      <td>0</td>\n",
       "    </tr>\n",
       "    <tr>\n",
       "      <th>433</th>\n",
       "      <td>1</td>\n",
       "      <td>2</td>\n",
       "      <td>206</td>\n",
       "      <td>104</td>\n",
       "      <td>1994</td>\n",
       "      <td>0</td>\n",
       "      <td>1</td>\n",
       "      <td>0</td>\n",
       "    </tr>\n",
       "    <tr>\n",
       "      <th>434</th>\n",
       "      <td>1</td>\n",
       "      <td>2</td>\n",
       "      <td>211</td>\n",
       "      <td>120</td>\n",
       "      <td>1988</td>\n",
       "      <td>1</td>\n",
       "      <td>0</td>\n",
       "      <td>0</td>\n",
       "    </tr>\n",
       "    <tr>\n",
       "      <th>435</th>\n",
       "      <td>1</td>\n",
       "      <td>2</td>\n",
       "      <td>213</td>\n",
       "      <td>124</td>\n",
       "      <td>1988</td>\n",
       "      <td>1</td>\n",
       "      <td>0</td>\n",
       "      <td>0</td>\n",
       "    </tr>\n",
       "    <tr>\n",
       "      <th>436</th>\n",
       "      <td>1</td>\n",
       "      <td>2</td>\n",
       "      <td>221</td>\n",
       "      <td>108</td>\n",
       "      <td>1995</td>\n",
       "      <td>0</td>\n",
       "      <td>1</td>\n",
       "      <td>0</td>\n",
       "    </tr>\n",
       "  </tbody>\n",
       "</table>\n",
       "<p>64 rows × 8 columns</p>\n",
       "</div>"
      ],
      "text/plain": [
       "     All_star_selections  In_Hall_of_fame  height  weight  born  Center  \\\n",
       "2                     17                2     203     113  1984       0   \n",
       "30                    11                2     183      79  1985       0   \n",
       "31                    11                2     206     108  1988       0   \n",
       "40                    10                2     203     108  1984       0   \n",
       "46                     9                2     190      90  1988       0   \n",
       "..                   ...              ...     ...     ...   ...     ...   \n",
       "432                    1                2     206     113  1994       0   \n",
       "433                    1                2     206     104  1994       0   \n",
       "434                    1                2     211     120  1988       1   \n",
       "435                    1                2     213     124  1988       1   \n",
       "436                    1                2     221     108  1995       0   \n",
       "\n",
       "     Forward  Guard  \n",
       "2          1      0  \n",
       "30         0      1  \n",
       "31         1      0  \n",
       "40         1      0  \n",
       "46         0      1  \n",
       "..       ...    ...  \n",
       "432        1      0  \n",
       "433        1      0  \n",
       "434        0      0  \n",
       "435        0      0  \n",
       "436        1      0  \n",
       "\n",
       "[64 rows x 8 columns]"
      ]
     },
     "execution_count": 464,
     "metadata": {},
     "output_type": "execute_result"
    }
   ],
   "source": [
    "current_player = df[df['In_Hall_of_fame'] == 2]\n",
    "current_player"
   ]
  },
  {
   "cell_type": "markdown",
   "id": "686ab92d",
   "metadata": {},
   "source": [
    "### remove the players from the dataset that are currently playing so that we can perform a train and test\n"
   ]
  },
  {
   "cell_type": "code",
   "execution_count": 465,
   "id": "7b143169",
   "metadata": {},
   "outputs": [
    {
     "data": {
      "text/plain": [
       "244"
      ]
     },
     "execution_count": 465,
     "metadata": {},
     "output_type": "execute_result"
    }
   ],
   "source": [
    "retired_player = df[df['In_Hall_of_fame'] != 2 ]\n",
    "\n",
    "\n",
    "(retired_player['In_Hall_of_fame'] == 0).sum()"
   ]
  },
  {
   "cell_type": "markdown",
   "id": "e4f1d1d7",
   "metadata": {},
   "source": [
    "\n",
    "group_names = [\"1920s\", \"1930s\", \"1940s\", \"1950s\",\n",
    "                \"1960s\", \"1970s\", \"1980s\", \"1990s\", \"2000s\"]\n",
    "group_names\n",
    "bins = np.linspace(1919, 2009, 10)\n",
    "\n",
    "retired_player['Decade'] = pd.cut(retired_player['born'], bins, labels=group_names, include_lowest=True)\n",
    "retired_player.head(5)\n",
    "\n",
    "\n",
    "\n",
    "plt.figure(figsize=(8, 5))\n",
    "sns.boxplot(x='Decade', y='All_star_selections',\n",
    "    data=retired_player, hue='In_Hall_of_fame', palette='rainbow')\n",
    "plt.xlabel(\"Decade when an NBA player was born\")\n",
    "plt.ylabel(\"Number of All-star selections\")\n",
    "plt.title(\"Number of All-star selections, NBA HOF\")\n",
    "plt.show()\n",
    "plt.close()"
   ]
  },
  {
   "cell_type": "markdown",
   "id": "97af4d40",
   "metadata": {},
   "source": [
    "### Randomized the dataset and calculate index for split "
   ]
  },
  {
   "cell_type": "code",
   "execution_count": 466,
   "id": "193831bc",
   "metadata": {},
   "outputs": [
    {
     "name": "stdout",
     "output_type": "stream",
     "text": [
      "(298, 8)\n",
      "(75, 8)\n"
     ]
    }
   ],
   "source": [
    "retired_player['In_Hall_of_fame'].value_counts(normalize = True)\n",
    "\n",
    "data_randomized = retired_player.sample(frac = 1, random_state = 1)\n",
    "\n",
    "training_test_index = round(len(data_randomized) * 0.8)\n",
    "\n",
    "training_set = data_randomized[:training_test_index].reset_index(drop = True)\n",
    "test_set = data_randomized[training_test_index:].reset_index(drop = True)\n",
    "\n",
    "print(training_set.shape)\n",
    "print(test_set.shape)"
   ]
  },
  {
   "cell_type": "code",
   "execution_count": 467,
   "id": "4cdd9898",
   "metadata": {},
   "outputs": [
    {
     "data": {
      "text/html": [
       "<div>\n",
       "<style scoped>\n",
       "    .dataframe tbody tr th:only-of-type {\n",
       "        vertical-align: middle;\n",
       "    }\n",
       "\n",
       "    .dataframe tbody tr th {\n",
       "        vertical-align: top;\n",
       "    }\n",
       "\n",
       "    .dataframe thead th {\n",
       "        text-align: right;\n",
       "    }\n",
       "</style>\n",
       "<table border=\"1\" class=\"dataframe\">\n",
       "  <thead>\n",
       "    <tr style=\"text-align: right;\">\n",
       "      <th></th>\n",
       "      <th>All_star_selections</th>\n",
       "      <th>In_Hall_of_fame</th>\n",
       "      <th>height</th>\n",
       "      <th>weight</th>\n",
       "      <th>born</th>\n",
       "      <th>Center</th>\n",
       "      <th>Forward</th>\n",
       "      <th>Guard</th>\n",
       "    </tr>\n",
       "  </thead>\n",
       "  <tbody>\n",
       "    <tr>\n",
       "      <th>0</th>\n",
       "      <td>7</td>\n",
       "      <td>1</td>\n",
       "      <td>206</td>\n",
       "      <td>102</td>\n",
       "      <td>1961</td>\n",
       "      <td>0</td>\n",
       "      <td>1</td>\n",
       "      <td>0</td>\n",
       "    </tr>\n",
       "    <tr>\n",
       "      <th>1</th>\n",
       "      <td>1</td>\n",
       "      <td>0</td>\n",
       "      <td>208</td>\n",
       "      <td>104</td>\n",
       "      <td>1967</td>\n",
       "      <td>0</td>\n",
       "      <td>1</td>\n",
       "      <td>0</td>\n",
       "    </tr>\n",
       "    <tr>\n",
       "      <th>2</th>\n",
       "      <td>1</td>\n",
       "      <td>0</td>\n",
       "      <td>206</td>\n",
       "      <td>99</td>\n",
       "      <td>1974</td>\n",
       "      <td>0</td>\n",
       "      <td>1</td>\n",
       "      <td>0</td>\n",
       "    </tr>\n",
       "    <tr>\n",
       "      <th>3</th>\n",
       "      <td>1</td>\n",
       "      <td>0</td>\n",
       "      <td>196</td>\n",
       "      <td>98</td>\n",
       "      <td>1944</td>\n",
       "      <td>0</td>\n",
       "      <td>1</td>\n",
       "      <td>0</td>\n",
       "    </tr>\n",
       "    <tr>\n",
       "      <th>4</th>\n",
       "      <td>6</td>\n",
       "      <td>1</td>\n",
       "      <td>203</td>\n",
       "      <td>95</td>\n",
       "      <td>1929</td>\n",
       "      <td>1</td>\n",
       "      <td>0</td>\n",
       "      <td>0</td>\n",
       "    </tr>\n",
       "    <tr>\n",
       "      <th>...</th>\n",
       "      <td>...</td>\n",
       "      <td>...</td>\n",
       "      <td>...</td>\n",
       "      <td>...</td>\n",
       "      <td>...</td>\n",
       "      <td>...</td>\n",
       "      <td>...</td>\n",
       "      <td>...</td>\n",
       "    </tr>\n",
       "    <tr>\n",
       "      <th>293</th>\n",
       "      <td>1</td>\n",
       "      <td>0</td>\n",
       "      <td>183</td>\n",
       "      <td>81</td>\n",
       "      <td>1967</td>\n",
       "      <td>0</td>\n",
       "      <td>0</td>\n",
       "      <td>1</td>\n",
       "    </tr>\n",
       "    <tr>\n",
       "      <th>294</th>\n",
       "      <td>3</td>\n",
       "      <td>1</td>\n",
       "      <td>198</td>\n",
       "      <td>86</td>\n",
       "      <td>1953</td>\n",
       "      <td>0</td>\n",
       "      <td>1</td>\n",
       "      <td>0</td>\n",
       "    </tr>\n",
       "    <tr>\n",
       "      <th>295</th>\n",
       "      <td>4</td>\n",
       "      <td>1</td>\n",
       "      <td>206</td>\n",
       "      <td>108</td>\n",
       "      <td>1974</td>\n",
       "      <td>0</td>\n",
       "      <td>1</td>\n",
       "      <td>0</td>\n",
       "    </tr>\n",
       "    <tr>\n",
       "      <th>296</th>\n",
       "      <td>1</td>\n",
       "      <td>0</td>\n",
       "      <td>206</td>\n",
       "      <td>99</td>\n",
       "      <td>1981</td>\n",
       "      <td>0</td>\n",
       "      <td>1</td>\n",
       "      <td>0</td>\n",
       "    </tr>\n",
       "    <tr>\n",
       "      <th>297</th>\n",
       "      <td>2</td>\n",
       "      <td>0</td>\n",
       "      <td>188</td>\n",
       "      <td>86</td>\n",
       "      <td>1928</td>\n",
       "      <td>0</td>\n",
       "      <td>0</td>\n",
       "      <td>1</td>\n",
       "    </tr>\n",
       "  </tbody>\n",
       "</table>\n",
       "<p>298 rows × 8 columns</p>\n",
       "</div>"
      ],
      "text/plain": [
       "     All_star_selections  In_Hall_of_fame  height  weight  born  Center  \\\n",
       "0                      7                1     206     102  1961       0   \n",
       "1                      1                0     208     104  1967       0   \n",
       "2                      1                0     206      99  1974       0   \n",
       "3                      1                0     196      98  1944       0   \n",
       "4                      6                1     203      95  1929       1   \n",
       "..                   ...              ...     ...     ...   ...     ...   \n",
       "293                    1                0     183      81  1967       0   \n",
       "294                    3                1     198      86  1953       0   \n",
       "295                    4                1     206     108  1974       0   \n",
       "296                    1                0     206      99  1981       0   \n",
       "297                    2                0     188      86  1928       0   \n",
       "\n",
       "     Forward  Guard  \n",
       "0          1      0  \n",
       "1          1      0  \n",
       "2          1      0  \n",
       "3          1      0  \n",
       "4          0      0  \n",
       "..       ...    ...  \n",
       "293        0      1  \n",
       "294        1      0  \n",
       "295        1      0  \n",
       "296        1      0  \n",
       "297        0      1  \n",
       "\n",
       "[298 rows x 8 columns]"
      ]
     },
     "execution_count": 467,
     "metadata": {},
     "output_type": "execute_result"
    }
   ],
   "source": [
    "training_set"
   ]
  },
  {
   "cell_type": "code",
   "execution_count": 468,
   "id": "2cffefe2",
   "metadata": {},
   "outputs": [
    {
     "data": {
      "text/plain": [
       "0    0.651007\n",
       "1    0.348993\n",
       "Name: In_Hall_of_fame, dtype: float64"
      ]
     },
     "execution_count": 468,
     "metadata": {},
     "output_type": "execute_result"
    }
   ],
   "source": [
    "training_set['In_Hall_of_fame'].value_counts(normalize = True)"
   ]
  },
  {
   "cell_type": "code",
   "execution_count": 469,
   "id": "276097ba",
   "metadata": {},
   "outputs": [
    {
     "data": {
      "text/plain": [
       "0    0.666667\n",
       "1    0.333333\n",
       "Name: In_Hall_of_fame, dtype: float64"
      ]
     },
     "execution_count": 469,
     "metadata": {},
     "output_type": "execute_result"
    }
   ],
   "source": [
    "test_set['In_Hall_of_fame'].value_counts(normalize = True)"
   ]
  },
  {
   "cell_type": "markdown",
   "id": "befa95d3",
   "metadata": {},
   "source": [
    "### trainX = all columns except \"In_Hall_of_fame\"\n",
    "### trainY = \"In_Hall_of_fame\" column "
   ]
  },
  {
   "cell_type": "code",
   "execution_count": 470,
   "id": "81ec32d5",
   "metadata": {},
   "outputs": [
    {
     "data": {
      "text/plain": [
       "0      1\n",
       "1      0\n",
       "2      0\n",
       "3      0\n",
       "4      1\n",
       "      ..\n",
       "293    0\n",
       "294    1\n",
       "295    1\n",
       "296    0\n",
       "297    0\n",
       "Name: In_Hall_of_fame, Length: 298, dtype: int64"
      ]
     },
     "execution_count": 470,
     "metadata": {},
     "output_type": "execute_result"
    }
   ],
   "source": [
    "trainX = training_set.drop('In_Hall_of_fame',1)\n",
    "trainY = training_set.iloc[ : , 1]\n",
    "trainY"
   ]
  },
  {
   "cell_type": "code",
   "execution_count": 471,
   "id": "b51d8a43",
   "metadata": {},
   "outputs": [
    {
     "data": {
      "text/plain": [
       "0     0\n",
       "1     0\n",
       "2     0\n",
       "3     1\n",
       "4     0\n",
       "     ..\n",
       "70    0\n",
       "71    0\n",
       "72    0\n",
       "73    0\n",
       "74    1\n",
       "Name: In_Hall_of_fame, Length: 75, dtype: int64"
      ]
     },
     "execution_count": 471,
     "metadata": {},
     "output_type": "execute_result"
    }
   ],
   "source": [
    "testX = test_set.drop('In_Hall_of_fame', 1)\n",
    "testY = test_set.iloc[:, 1]\n",
    "testY"
   ]
  },
  {
   "cell_type": "code",
   "execution_count": 472,
   "id": "31997414",
   "metadata": {},
   "outputs": [
    {
     "data": {
      "text/html": [
       "<div>\n",
       "<style scoped>\n",
       "    .dataframe tbody tr th:only-of-type {\n",
       "        vertical-align: middle;\n",
       "    }\n",
       "\n",
       "    .dataframe tbody tr th {\n",
       "        vertical-align: top;\n",
       "    }\n",
       "\n",
       "    .dataframe thead th {\n",
       "        text-align: right;\n",
       "    }\n",
       "</style>\n",
       "<table border=\"1\" class=\"dataframe\">\n",
       "  <thead>\n",
       "    <tr style=\"text-align: right;\">\n",
       "      <th></th>\n",
       "      <th>All_star_selections</th>\n",
       "      <th>height</th>\n",
       "      <th>weight</th>\n",
       "      <th>born</th>\n",
       "      <th>Center</th>\n",
       "      <th>Forward</th>\n",
       "      <th>Guard</th>\n",
       "    </tr>\n",
       "  </thead>\n",
       "  <tbody>\n",
       "    <tr>\n",
       "      <th>0</th>\n",
       "      <td>7</td>\n",
       "      <td>206</td>\n",
       "      <td>102</td>\n",
       "      <td>1961</td>\n",
       "      <td>0</td>\n",
       "      <td>1</td>\n",
       "      <td>0</td>\n",
       "    </tr>\n",
       "    <tr>\n",
       "      <th>1</th>\n",
       "      <td>1</td>\n",
       "      <td>208</td>\n",
       "      <td>104</td>\n",
       "      <td>1967</td>\n",
       "      <td>0</td>\n",
       "      <td>1</td>\n",
       "      <td>0</td>\n",
       "    </tr>\n",
       "    <tr>\n",
       "      <th>2</th>\n",
       "      <td>1</td>\n",
       "      <td>206</td>\n",
       "      <td>99</td>\n",
       "      <td>1974</td>\n",
       "      <td>0</td>\n",
       "      <td>1</td>\n",
       "      <td>0</td>\n",
       "    </tr>\n",
       "    <tr>\n",
       "      <th>3</th>\n",
       "      <td>1</td>\n",
       "      <td>196</td>\n",
       "      <td>98</td>\n",
       "      <td>1944</td>\n",
       "      <td>0</td>\n",
       "      <td>1</td>\n",
       "      <td>0</td>\n",
       "    </tr>\n",
       "    <tr>\n",
       "      <th>4</th>\n",
       "      <td>6</td>\n",
       "      <td>203</td>\n",
       "      <td>95</td>\n",
       "      <td>1929</td>\n",
       "      <td>1</td>\n",
       "      <td>0</td>\n",
       "      <td>0</td>\n",
       "    </tr>\n",
       "  </tbody>\n",
       "</table>\n",
       "</div>"
      ],
      "text/plain": [
       "   All_star_selections  height  weight  born  Center  Forward  Guard\n",
       "0                    7     206     102  1961       0        1      0\n",
       "1                    1     208     104  1967       0        1      0\n",
       "2                    1     206      99  1974       0        1      0\n",
       "3                    1     196      98  1944       0        1      0\n",
       "4                    6     203      95  1929       1        0      0"
      ]
     },
     "execution_count": 472,
     "metadata": {},
     "output_type": "execute_result"
    }
   ],
   "source": [
    "trainX.head()"
   ]
  },
  {
   "cell_type": "code",
   "execution_count": 473,
   "id": "66e8e652",
   "metadata": {},
   "outputs": [
    {
     "data": {
      "text/html": [
       "<div>\n",
       "<style scoped>\n",
       "    .dataframe tbody tr th:only-of-type {\n",
       "        vertical-align: middle;\n",
       "    }\n",
       "\n",
       "    .dataframe tbody tr th {\n",
       "        vertical-align: top;\n",
       "    }\n",
       "\n",
       "    .dataframe thead th {\n",
       "        text-align: right;\n",
       "    }\n",
       "</style>\n",
       "<table border=\"1\" class=\"dataframe\">\n",
       "  <thead>\n",
       "    <tr style=\"text-align: right;\">\n",
       "      <th></th>\n",
       "      <th>All_star_selections</th>\n",
       "      <th>height</th>\n",
       "      <th>weight</th>\n",
       "      <th>born</th>\n",
       "      <th>Center</th>\n",
       "      <th>Forward</th>\n",
       "      <th>Guard</th>\n",
       "    </tr>\n",
       "  </thead>\n",
       "  <tbody>\n",
       "    <tr>\n",
       "      <th>0</th>\n",
       "      <td>6</td>\n",
       "      <td>196</td>\n",
       "      <td>95</td>\n",
       "      <td>1944</td>\n",
       "      <td>0</td>\n",
       "      <td>1</td>\n",
       "      <td>0</td>\n",
       "    </tr>\n",
       "    <tr>\n",
       "      <th>1</th>\n",
       "      <td>2</td>\n",
       "      <td>208</td>\n",
       "      <td>108</td>\n",
       "      <td>1958</td>\n",
       "      <td>1</td>\n",
       "      <td>0</td>\n",
       "      <td>0</td>\n",
       "    </tr>\n",
       "    <tr>\n",
       "      <th>2</th>\n",
       "      <td>1</td>\n",
       "      <td>213</td>\n",
       "      <td>120</td>\n",
       "      <td>1982</td>\n",
       "      <td>1</td>\n",
       "      <td>0</td>\n",
       "      <td>0</td>\n",
       "    </tr>\n",
       "    <tr>\n",
       "      <th>3</th>\n",
       "      <td>6</td>\n",
       "      <td>201</td>\n",
       "      <td>98</td>\n",
       "      <td>1934</td>\n",
       "      <td>0</td>\n",
       "      <td>1</td>\n",
       "      <td>0</td>\n",
       "    </tr>\n",
       "    <tr>\n",
       "      <th>4</th>\n",
       "      <td>2</td>\n",
       "      <td>206</td>\n",
       "      <td>83</td>\n",
       "      <td>1923</td>\n",
       "      <td>1</td>\n",
       "      <td>0</td>\n",
       "      <td>0</td>\n",
       "    </tr>\n",
       "  </tbody>\n",
       "</table>\n",
       "</div>"
      ],
      "text/plain": [
       "   All_star_selections  height  weight  born  Center  Forward  Guard\n",
       "0                    6     196      95  1944       0        1      0\n",
       "1                    2     208     108  1958       1        0      0\n",
       "2                    1     213     120  1982       1        0      0\n",
       "3                    6     201      98  1934       0        1      0\n",
       "4                    2     206      83  1923       1        0      0"
      ]
     },
     "execution_count": 473,
     "metadata": {},
     "output_type": "execute_result"
    }
   ],
   "source": [
    "testX.head()"
   ]
  },
  {
   "cell_type": "code",
   "execution_count": 474,
   "id": "3e5baebe",
   "metadata": {},
   "outputs": [
    {
     "name": "stdout",
     "output_type": "stream",
     "text": [
      "(298, 7) (298,)\n"
     ]
    }
   ],
   "source": [
    "print(trainX.shape, trainY.shape)"
   ]
  },
  {
   "cell_type": "markdown",
   "id": "8b6009fd",
   "metadata": {},
   "source": [
    "### perform Naive Baye's"
   ]
  },
  {
   "cell_type": "code",
   "execution_count": 518,
   "id": "2cc73dd8",
   "metadata": {},
   "outputs": [],
   "source": [
    "clf = MultinomialNB()\n",
    "# train\n",
    "clf.fit(trainX, trainY)\n",
    "# test\n",
    "yhat = clf.predict(testX)"
   ]
  },
  {
   "cell_type": "markdown",
   "id": "ad5d3d00",
   "metadata": {},
   "source": [
    "### Confusion Matrix"
   ]
  },
  {
   "cell_type": "code",
   "execution_count": 476,
   "id": "b9f6722a",
   "metadata": {},
   "outputs": [
    {
     "data": {
      "text/html": [
       "<div>\n",
       "<style scoped>\n",
       "    .dataframe tbody tr th:only-of-type {\n",
       "        vertical-align: middle;\n",
       "    }\n",
       "\n",
       "    .dataframe tbody tr th {\n",
       "        vertical-align: top;\n",
       "    }\n",
       "\n",
       "    .dataframe thead th {\n",
       "        text-align: right;\n",
       "    }\n",
       "</style>\n",
       "<table border=\"1\" class=\"dataframe\">\n",
       "  <thead>\n",
       "    <tr style=\"text-align: right;\">\n",
       "      <th>col_0</th>\n",
       "      <th>0</th>\n",
       "      <th>1</th>\n",
       "    </tr>\n",
       "    <tr>\n",
       "      <th>In_Hall_of_fame</th>\n",
       "      <th></th>\n",
       "      <th></th>\n",
       "    </tr>\n",
       "  </thead>\n",
       "  <tbody>\n",
       "    <tr>\n",
       "      <th>0</th>\n",
       "      <td>45</td>\n",
       "      <td>5</td>\n",
       "    </tr>\n",
       "    <tr>\n",
       "      <th>1</th>\n",
       "      <td>4</td>\n",
       "      <td>21</td>\n",
       "    </tr>\n",
       "  </tbody>\n",
       "</table>\n",
       "</div>"
      ],
      "text/plain": [
       "col_0             0   1\n",
       "In_Hall_of_fame        \n",
       "0                45   5\n",
       "1                 4  21"
      ]
     },
     "execution_count": 476,
     "metadata": {},
     "output_type": "execute_result"
    }
   ],
   "source": [
    "confM = confusion_matrix(testY, yhat)\n",
    "pd.crosstab(testY, yhat)\n"
   ]
  },
  {
   "cell_type": "markdown",
   "id": "bbbdd8f3",
   "metadata": {},
   "source": [
    "### Accuracy on Naive Baye's"
   ]
  },
  {
   "cell_type": "code",
   "execution_count": 477,
   "id": "103f7fb5",
   "metadata": {},
   "outputs": [
    {
     "name": "stdout",
     "output_type": "stream",
     "text": [
      "Accuracy:  0.88\n"
     ]
    }
   ],
   "source": [
    "print(\"Accuracy: \", accuracy_score(yhat, testY))"
   ]
  },
  {
   "cell_type": "markdown",
   "id": "3f4bc0bc",
   "metadata": {},
   "source": [
    "### Accuracy on KNN"
   ]
  },
  {
   "cell_type": "code",
   "execution_count": 478,
   "id": "1726358f",
   "metadata": {},
   "outputs": [
    {
     "name": "stdout",
     "output_type": "stream",
     "text": [
      "Accuracy:  0.7466666666666667\n"
     ]
    }
   ],
   "source": [
    "retired_player\n",
    "neigh = KNeighborsClassifier(n_neighbors=3)\n",
    "neigh.fit(trainX,trainY)\n",
    "predict_neigh = neigh.predict(testX)\n",
    "\n",
    "y = accuracy_score(predict_neigh, testY)\n",
    "print(\"Accuracy: \", y)"
   ]
  },
  {
   "cell_type": "markdown",
   "id": "f17ba4be",
   "metadata": {},
   "source": [
    "### Confusion Matrix Naive Bayes'"
   ]
  },
  {
   "cell_type": "code",
   "execution_count": 479,
   "id": "1f421856",
   "metadata": {},
   "outputs": [
    {
     "data": {
      "image/png": "[encoded data removed]",
      "text/plain": [
       "<Figure size 432x288 with 2 Axes>"
      ]
     },
     "metadata": {
      "needs_background": "light"
     },
     "output_type": "display_data"
    }
   ],
   "source": [
    "plot_confusion_matrix(clf, testX, testY)  \n",
    "plt.show()"
   ]
  },
  {
   "cell_type": "markdown",
   "id": "1743932a",
   "metadata": {},
   "source": [
    "### Confusion Matrix for KNN"
   ]
  },
  {
   "cell_type": "code",
   "execution_count": 480,
   "id": "131aa93b",
   "metadata": {},
   "outputs": [
    {
     "data": {
      "image/png": "[encoded data removed]",
      "text/plain": [
       "<Figure size 432x288 with 2 Axes>"
      ]
     },
     "metadata": {
      "needs_background": "light"
     },
     "output_type": "display_data"
    }
   ],
   "source": [
    "plot_confusion_matrix(neigh, testX, testY)  \n",
    "plt.show()"
   ]
  },
  {
   "cell_type": "markdown",
   "id": "01f015f3",
   "metadata": {},
   "source": [
    "### Random Forest"
   ]
  },
  {
   "cell_type": "code",
   "execution_count": 481,
   "id": "a2107d3b",
   "metadata": {},
   "outputs": [
    {
     "name": "stdout",
     "output_type": "stream",
     "text": [
      "Accuracy:  0.8533333333333334\n"
     ]
    }
   ],
   "source": [
    "rf_clf = RandomForestClassifier()\n",
    "rf_clf = rf_clf.fit(trainX, trainY)\n",
    "rf_preds = rf_clf.predict(testX)\n",
    "rf_acc = accuracy_score(rf_preds, testY)\n",
    "\n",
    "print(\"Accuracy: \", rf_acc)"
   ]
  },
  {
   "cell_type": "markdown",
   "id": "1103b2d1",
   "metadata": {},
   "source": [
    "### Confusion Matrix for Random Forest Classifier"
   ]
  },
  {
   "cell_type": "code",
   "execution_count": 482,
   "id": "e24616fe",
   "metadata": {},
   "outputs": [
    {
     "data": {
      "image/png": "[encoded data removed]",
      "text/plain": [
       "<Figure size 432x288 with 2 Axes>"
      ]
     },
     "metadata": {
      "needs_background": "light"
     },
     "output_type": "display_data"
    }
   ],
   "source": [
    "plot_confusion_matrix(rf_clf, testX, testY)\n",
    "plt.show()"
   ]
  },
  {
   "cell_type": "markdown",
   "id": "3aa940c0",
   "metadata": {},
   "source": [
    "## Random Forest 5 Fold Cross Validation"
   ]
  },
  {
   "cell_type": "code",
   "execution_count": 515,
   "id": "ba5c3508",
   "metadata": {},
   "outputs": [
    {
     "name": "stdout",
     "output_type": "stream",
     "text": [
      "Accuracy: 0.8133333333333334 with 100 tree\n",
      "Accuracy: 0.8533333333333333 with 100 tree\n",
      "Accuracy: 0.8577777777777778 with 100 tree\n",
      "Accuracy: 0.8494144144144145 with 100 tree\n",
      "Accuracy: 0.8633153153153155 with 100 tree\n",
      "Accuracy: 0.8616516516516518 with 500 tree\n",
      "Accuracy: 0.8661776061776063 with 500 tree\n",
      "Accuracy: 0.8695720720720722 with 500 tree\n",
      "Accuracy: 0.8570370370370372 with 500 tree\n",
      "Accuracy: 0.861873873873874 with 500 tree\n",
      "Accuracy: 0.8562489762489764 with 1000 tree\n",
      "Accuracy: 0.854894894894895 with 1000 tree\n",
      "Accuracy: 0.858877338877339 with 1000 tree\n",
      "Accuracy: 0.8622007722007723 with 1000 tree\n",
      "Accuracy: 0.8578738738738739 with 1000 tree\n",
      "Accuracy: 0.8575900900900901 with 2000 tree\n",
      "Accuracy: 0.8589083200847908 with 2000 tree\n",
      "Accuracy: 0.8600800800800802 with 2000 tree\n",
      "Accuracy: 0.8603319108582269 with 2000 tree\n",
      "Accuracy: 0.8598828828828831 with 2000 tree\n"
     ]
    }
   ],
   "source": [
    "Y = retired_player['In_Hall_of_fame']\n",
    "train_data = retired_player.drop(['In_Hall_of_fame'], axis=1)\n",
    "random.seed(123)\n",
    "num_trees = [100, 500, 1000, 2000]\n",
    "skf = StratifiedKFold(n_splits = 5, shuffle = True)\n",
    "error = []\n",
    "for param in num_trees:\n",
    "    rf_mod = RandomForestClassifier(n_estimators=param)\n",
    "    for train_index, test_index in skf.split(train_data, Y):\n",
    "        trainX, testX = train_data.iloc[train_index],train_data.iloc[test_index]\n",
    "        \n",
    "        trainY, testY = Y.iloc[train_index],Y.iloc[test_index]\n",
    "        rf_mod = rf_mod.fit(trainX, trainY)\n",
    "        y_pred = rf_mod.predict(testX)\n",
    "        error.append(accuracy_score(testY, y_pred))\n",
    "        print(\"Accuracy:\", sum(error)/len(error), \"with\", param, \"tree\")"
   ]
  },
  {
   "cell_type": "markdown",
   "id": "68d1f7fa",
   "metadata": {},
   "source": [
    "##  Gradient Boosting Classifier"
   ]
  },
  {
   "cell_type": "code",
   "execution_count": 516,
   "id": "e9ca3da6",
   "metadata": {},
   "outputs": [
    {
     "name": "stdout",
     "output_type": "stream",
     "text": [
      "0.8\n",
      "0.8666666666666667\n",
      "0.8355555555555556\n",
      "0.8361261261261261\n",
      "0.804036036036036\n"
     ]
    }
   ],
   "source": [
    "random.seed(123)\n",
    "boost_mod = GradientBoostingClassifier(n_estimators = 100, learning_rate = 1,max_depth = 2)\n",
    "skf = StratifiedKFold(n_splits = 5, shuffle = True)\n",
    "error = []\n",
    "for train_index, test_index in skf.split(train_data, Y):\n",
    "    trainX, testX = train_data.iloc[train_index],train_data.iloc[test_index]\n",
    "    trainY, testY = Y.iloc[train_index], Y.iloc[test_index]\n",
    "    boost_mod = boost_mod.fit(trainX, trainY)\n",
    "    y_pred = boost_mod.predict(testX)\n",
    "    error.append(accuracy_score(testY,y_pred))\n",
    "    print(sum(error)/len(error))\n",
    "    \n"
   ]
  },
  {
   "cell_type": "markdown",
   "id": "4611f4c7",
   "metadata": {},
   "source": [
    "### Additional information on if the current NBA players will make it to the Hall of Fame"
   ]
  },
  {
   "cell_type": "code",
   "execution_count": 485,
   "id": "6caaac68",
   "metadata": {},
   "outputs": [
    {
     "data": {
      "text/html": [
       "<div>\n",
       "<style scoped>\n",
       "    .dataframe tbody tr th:only-of-type {\n",
       "        vertical-align: middle;\n",
       "    }\n",
       "\n",
       "    .dataframe tbody tr th {\n",
       "        vertical-align: top;\n",
       "    }\n",
       "\n",
       "    .dataframe thead th {\n",
       "        text-align: right;\n",
       "    }\n",
       "</style>\n",
       "<table border=\"1\" class=\"dataframe\">\n",
       "  <thead>\n",
       "    <tr style=\"text-align: right;\">\n",
       "      <th></th>\n",
       "      <th>All_star_selections</th>\n",
       "      <th>height</th>\n",
       "      <th>weight</th>\n",
       "      <th>born</th>\n",
       "      <th>Center</th>\n",
       "      <th>Forward</th>\n",
       "      <th>Guard</th>\n",
       "    </tr>\n",
       "  </thead>\n",
       "  <tbody>\n",
       "    <tr>\n",
       "      <th>2</th>\n",
       "      <td>17</td>\n",
       "      <td>203</td>\n",
       "      <td>113</td>\n",
       "      <td>1984</td>\n",
       "      <td>0</td>\n",
       "      <td>1</td>\n",
       "      <td>0</td>\n",
       "    </tr>\n",
       "    <tr>\n",
       "      <th>30</th>\n",
       "      <td>11</td>\n",
       "      <td>183</td>\n",
       "      <td>79</td>\n",
       "      <td>1985</td>\n",
       "      <td>0</td>\n",
       "      <td>0</td>\n",
       "      <td>1</td>\n",
       "    </tr>\n",
       "    <tr>\n",
       "      <th>31</th>\n",
       "      <td>11</td>\n",
       "      <td>206</td>\n",
       "      <td>108</td>\n",
       "      <td>1988</td>\n",
       "      <td>0</td>\n",
       "      <td>1</td>\n",
       "      <td>0</td>\n",
       "    </tr>\n",
       "    <tr>\n",
       "      <th>40</th>\n",
       "      <td>10</td>\n",
       "      <td>203</td>\n",
       "      <td>108</td>\n",
       "      <td>1984</td>\n",
       "      <td>0</td>\n",
       "      <td>1</td>\n",
       "      <td>0</td>\n",
       "    </tr>\n",
       "    <tr>\n",
       "      <th>46</th>\n",
       "      <td>9</td>\n",
       "      <td>190</td>\n",
       "      <td>90</td>\n",
       "      <td>1988</td>\n",
       "      <td>0</td>\n",
       "      <td>0</td>\n",
       "      <td>1</td>\n",
       "    </tr>\n",
       "  </tbody>\n",
       "</table>\n",
       "</div>"
      ],
      "text/plain": [
       "    All_star_selections  height  weight  born  Center  Forward  Guard\n",
       "2                    17     203     113  1984       0        1      0\n",
       "30                   11     183      79  1985       0        0      1\n",
       "31                   11     206     108  1988       0        1      0\n",
       "40                   10     203     108  1984       0        1      0\n",
       "46                    9     190      90  1988       0        0      1"
      ]
     },
     "execution_count": 485,
     "metadata": {},
     "output_type": "execute_result"
    }
   ],
   "source": [
    "realTestX = current_player.drop(\"In_Hall_of_fame\", 1)\n",
    "realTestX.head()\n"
   ]
  },
  {
   "cell_type": "code",
   "execution_count": 486,
   "id": "05ddcdcc",
   "metadata": {},
   "outputs": [],
   "source": [
    "realPred = pd.Series(clf.predict(realTestX))\n"
   ]
  },
  {
   "cell_type": "code",
   "execution_count": 487,
   "id": "5885aca9",
   "metadata": {},
   "outputs": [
    {
     "data": {
      "text/plain": [
       "Int64Index([  2,  30,  31,  40,  46,  47,  59,  60,  80,  81,  82,  83, 104,\n",
       "            105, 106, 133, 134, 135, 136, 137, 138, 139, 177, 178, 179, 180,\n",
       "            181, 182, 214, 215, 216, 217, 218, 219, 288, 289, 290, 291, 292,\n",
       "            293, 294, 295, 296, 297, 298, 299, 419, 420, 421, 422, 423, 424,\n",
       "            425, 426, 427, 428, 429, 430, 431, 432, 433, 434, 435, 436],\n",
       "           dtype='int64')"
      ]
     },
     "execution_count": 487,
     "metadata": {},
     "output_type": "execute_result"
    }
   ],
   "source": [
    "ids = realTestX.index\n",
    "ids"
   ]
  },
  {
   "cell_type": "code",
   "execution_count": 488,
   "id": "ba91a96e",
   "metadata": {},
   "outputs": [],
   "source": [
    "KNNrealPred = pd.Series(neigh.predict(realTestX))\n"
   ]
  },
  {
   "cell_type": "code",
   "execution_count": 489,
   "id": "5d4a55e1",
   "metadata": {},
   "outputs": [],
   "source": [
    "RFrealPred = pd.Series(rf_clf.predict(realTestX))"
   ]
  },
  {
   "cell_type": "code",
   "execution_count": 490,
   "id": "63eaa6a7",
   "metadata": {},
   "outputs": [
    {
     "data": {
      "text/plain": [
       "0     1\n",
       "1     0\n",
       "2     0\n",
       "3     1\n",
       "4     0\n",
       "     ..\n",
       "59    0\n",
       "60    0\n",
       "61    0\n",
       "62    0\n",
       "63    0\n",
       "Length: 64, dtype: int64"
      ]
     },
     "execution_count": 490,
     "metadata": {},
     "output_type": "execute_result"
    }
   ],
   "source": [
    "KNNrealPred"
   ]
  },
  {
   "cell_type": "code",
   "execution_count": 491,
   "id": "a5f7b818",
   "metadata": {},
   "outputs": [
    {
     "data": {
      "text/plain": [
       "5"
      ]
     },
     "execution_count": 491,
     "metadata": {},
     "output_type": "execute_result"
    }
   ],
   "source": [
    "RFrealPred.sum()"
   ]
  },
  {
   "cell_type": "code",
   "execution_count": 492,
   "id": "74be882d",
   "metadata": {},
   "outputs": [],
   "source": [
    "del df"
   ]
  },
  {
   "cell_type": "code",
   "execution_count": 493,
   "id": "58411566",
   "metadata": {},
   "outputs": [
    {
     "data": {
      "text/html": [
       "<div>\n",
       "<style scoped>\n",
       "    .dataframe tbody tr th:only-of-type {\n",
       "        vertical-align: middle;\n",
       "    }\n",
       "\n",
       "    .dataframe tbody tr th {\n",
       "        vertical-align: top;\n",
       "    }\n",
       "\n",
       "    .dataframe thead th {\n",
       "        text-align: right;\n",
       "    }\n",
       "</style>\n",
       "<table border=\"1\" class=\"dataframe\">\n",
       "  <thead>\n",
       "    <tr style=\"text-align: right;\">\n",
       "      <th></th>\n",
       "      <th>Name</th>\n",
       "      <th>position</th>\n",
       "      <th>All_star_selections</th>\n",
       "      <th>In_Hall_of_fame</th>\n",
       "      <th>height</th>\n",
       "      <th>weight</th>\n",
       "      <th>born</th>\n",
       "    </tr>\n",
       "  </thead>\n",
       "  <tbody>\n",
       "    <tr>\n",
       "      <th>0</th>\n",
       "      <td>Kareem Abdul-Jabbar</td>\n",
       "      <td>C</td>\n",
       "      <td>19</td>\n",
       "      <td>1</td>\n",
       "      <td>218</td>\n",
       "      <td>102</td>\n",
       "      <td>1947</td>\n",
       "    </tr>\n",
       "    <tr>\n",
       "      <th>1</th>\n",
       "      <td>Kobe Bryant</td>\n",
       "      <td>G</td>\n",
       "      <td>18</td>\n",
       "      <td>1</td>\n",
       "      <td>198</td>\n",
       "      <td>96</td>\n",
       "      <td>1978</td>\n",
       "    </tr>\n",
       "    <tr>\n",
       "      <th>2</th>\n",
       "      <td>LeBron James</td>\n",
       "      <td>F</td>\n",
       "      <td>17</td>\n",
       "      <td>2</td>\n",
       "      <td>203</td>\n",
       "      <td>113</td>\n",
       "      <td>1984</td>\n",
       "    </tr>\n",
       "    <tr>\n",
       "      <th>3</th>\n",
       "      <td>Tim Duncan</td>\n",
       "      <td>F</td>\n",
       "      <td>15</td>\n",
       "      <td>1</td>\n",
       "      <td>211</td>\n",
       "      <td>113</td>\n",
       "      <td>1976</td>\n",
       "    </tr>\n",
       "    <tr>\n",
       "      <th>4</th>\n",
       "      <td>Kevin Garnett</td>\n",
       "      <td>F</td>\n",
       "      <td>15</td>\n",
       "      <td>1</td>\n",
       "      <td>211</td>\n",
       "      <td>108</td>\n",
       "      <td>1976</td>\n",
       "    </tr>\n",
       "    <tr>\n",
       "      <th>...</th>\n",
       "      <td>...</td>\n",
       "      <td>...</td>\n",
       "      <td>...</td>\n",
       "      <td>...</td>\n",
       "      <td>...</td>\n",
       "      <td>...</td>\n",
       "      <td>...</td>\n",
       "    </tr>\n",
       "    <tr>\n",
       "      <th>432</th>\n",
       "      <td>Julius Randle</td>\n",
       "      <td>F</td>\n",
       "      <td>1</td>\n",
       "      <td>2</td>\n",
       "      <td>206</td>\n",
       "      <td>113</td>\n",
       "      <td>1994</td>\n",
       "    </tr>\n",
       "    <tr>\n",
       "      <th>433</th>\n",
       "      <td>Pascal Siakam</td>\n",
       "      <td>F</td>\n",
       "      <td>1</td>\n",
       "      <td>2</td>\n",
       "      <td>206</td>\n",
       "      <td>104</td>\n",
       "      <td>1994</td>\n",
       "    </tr>\n",
       "    <tr>\n",
       "      <th>434</th>\n",
       "      <td>DeAndre Jordan</td>\n",
       "      <td>C</td>\n",
       "      <td>1</td>\n",
       "      <td>2</td>\n",
       "      <td>211</td>\n",
       "      <td>120</td>\n",
       "      <td>1988</td>\n",
       "    </tr>\n",
       "    <tr>\n",
       "      <th>435</th>\n",
       "      <td>Brook Lopez</td>\n",
       "      <td>C</td>\n",
       "      <td>1</td>\n",
       "      <td>2</td>\n",
       "      <td>213</td>\n",
       "      <td>124</td>\n",
       "      <td>1988</td>\n",
       "    </tr>\n",
       "    <tr>\n",
       "      <th>436</th>\n",
       "      <td>Kristaps Porzingis</td>\n",
       "      <td>F</td>\n",
       "      <td>1</td>\n",
       "      <td>2</td>\n",
       "      <td>221</td>\n",
       "      <td>108</td>\n",
       "      <td>1995</td>\n",
       "    </tr>\n",
       "  </tbody>\n",
       "</table>\n",
       "<p>437 rows × 7 columns</p>\n",
       "</div>"
      ],
      "text/plain": [
       "                    Name position  All_star_selections  In_Hall_of_fame  \\\n",
       "0    Kareem Abdul-Jabbar        C                   19                1   \n",
       "1            Kobe Bryant        G                   18                1   \n",
       "2           LeBron James        F                   17                2   \n",
       "3             Tim Duncan        F                   15                1   \n",
       "4          Kevin Garnett        F                   15                1   \n",
       "..                   ...      ...                  ...              ...   \n",
       "432        Julius Randle        F                    1                2   \n",
       "433        Pascal Siakam        F                    1                2   \n",
       "434       DeAndre Jordan        C                    1                2   \n",
       "435          Brook Lopez        C                    1                2   \n",
       "436   Kristaps Porzingis        F                    1                2   \n",
       "\n",
       "     height  weight  born  \n",
       "0       218     102  1947  \n",
       "1       198      96  1978  \n",
       "2       203     113  1984  \n",
       "3       211     113  1976  \n",
       "4       211     108  1976  \n",
       "..      ...     ...   ...  \n",
       "432     206     113  1994  \n",
       "433     206     104  1994  \n",
       "434     211     120  1988  \n",
       "435     213     124  1988  \n",
       "436     221     108  1995  \n",
       "\n",
       "[437 rows x 7 columns]"
      ]
     },
     "execution_count": 493,
     "metadata": {},
     "output_type": "execute_result"
    }
   ],
   "source": [
    "df = pd.read_csv(\"NBA Hall of Famers 2021.csv\")\n",
    "df"
   ]
  },
  {
   "cell_type": "code",
   "execution_count": 494,
   "id": "58693083",
   "metadata": {},
   "outputs": [
    {
     "data": {
      "text/plain": [
       "Name                   LeBron James\n",
       "position                          F\n",
       "All_star_selections              17\n",
       "In_Hall_of_fame                   2\n",
       "height                          203\n",
       "weight                          113\n",
       "born                           1984\n",
       "Name: 2, dtype: object"
      ]
     },
     "execution_count": 494,
     "metadata": {},
     "output_type": "execute_result"
    }
   ],
   "source": [
    "df.iloc[2, :]"
   ]
  },
  {
   "cell_type": "code",
   "execution_count": 495,
   "id": "466e76a9",
   "metadata": {},
   "outputs": [
    {
     "data": {
      "text/plain": [
       "(64, 7)"
      ]
     },
     "execution_count": 495,
     "metadata": {},
     "output_type": "execute_result"
    }
   ],
   "source": [
    "curr_pls = df.iloc[ids, :]\n",
    "curr_pls.shape"
   ]
  },
  {
   "cell_type": "code",
   "execution_count": 496,
   "id": "065475cc",
   "metadata": {},
   "outputs": [
    {
     "data": {
      "text/plain": [
       "(64,)"
      ]
     },
     "execution_count": 496,
     "metadata": {},
     "output_type": "execute_result"
    }
   ],
   "source": [
    "realPred.shape"
   ]
  },
  {
   "cell_type": "code",
   "execution_count": 497,
   "id": "ea408b69",
   "metadata": {},
   "outputs": [
    {
     "data": {
      "text/plain": [
       "0     1\n",
       "1     1\n",
       "2     1\n",
       "3     1\n",
       "4     1\n",
       "     ..\n",
       "59    0\n",
       "60    0\n",
       "61    0\n",
       "62    0\n",
       "63    0\n",
       "Length: 64, dtype: int64"
      ]
     },
     "execution_count": 497,
     "metadata": {},
     "output_type": "execute_result"
    }
   ],
   "source": [
    "realPred\n"
   ]
  },
  {
   "cell_type": "code",
   "execution_count": 498,
   "id": "fba2d9ed",
   "metadata": {},
   "outputs": [
    {
     "data": {
      "text/html": [
       "<div>\n",
       "<style scoped>\n",
       "    .dataframe tbody tr th:only-of-type {\n",
       "        vertical-align: middle;\n",
       "    }\n",
       "\n",
       "    .dataframe tbody tr th {\n",
       "        vertical-align: top;\n",
       "    }\n",
       "\n",
       "    .dataframe thead th {\n",
       "        text-align: right;\n",
       "    }\n",
       "</style>\n",
       "<table border=\"1\" class=\"dataframe\">\n",
       "  <thead>\n",
       "    <tr style=\"text-align: right;\">\n",
       "      <th></th>\n",
       "      <th>Name</th>\n",
       "      <th>position</th>\n",
       "      <th>All_star_selections</th>\n",
       "      <th>In_Hall_of_fame</th>\n",
       "      <th>height</th>\n",
       "      <th>weight</th>\n",
       "      <th>born</th>\n",
       "    </tr>\n",
       "  </thead>\n",
       "  <tbody>\n",
       "    <tr>\n",
       "      <th>2</th>\n",
       "      <td>LeBron James</td>\n",
       "      <td>F</td>\n",
       "      <td>17</td>\n",
       "      <td>2</td>\n",
       "      <td>203</td>\n",
       "      <td>113</td>\n",
       "      <td>1984</td>\n",
       "    </tr>\n",
       "    <tr>\n",
       "      <th>30</th>\n",
       "      <td>Chris Paul</td>\n",
       "      <td>G</td>\n",
       "      <td>11</td>\n",
       "      <td>2</td>\n",
       "      <td>183</td>\n",
       "      <td>79</td>\n",
       "      <td>1985</td>\n",
       "    </tr>\n",
       "    <tr>\n",
       "      <th>31</th>\n",
       "      <td>Kevin Durant</td>\n",
       "      <td>F</td>\n",
       "      <td>11</td>\n",
       "      <td>2</td>\n",
       "      <td>206</td>\n",
       "      <td>108</td>\n",
       "      <td>1988</td>\n",
       "    </tr>\n",
       "    <tr>\n",
       "      <th>40</th>\n",
       "      <td>Carmelo Anthony</td>\n",
       "      <td>F</td>\n",
       "      <td>10</td>\n",
       "      <td>2</td>\n",
       "      <td>203</td>\n",
       "      <td>108</td>\n",
       "      <td>1984</td>\n",
       "    </tr>\n",
       "    <tr>\n",
       "      <th>46</th>\n",
       "      <td>Russell Westbrook</td>\n",
       "      <td>G</td>\n",
       "      <td>9</td>\n",
       "      <td>2</td>\n",
       "      <td>190</td>\n",
       "      <td>90</td>\n",
       "      <td>1988</td>\n",
       "    </tr>\n",
       "    <tr>\n",
       "      <th>...</th>\n",
       "      <td>...</td>\n",
       "      <td>...</td>\n",
       "      <td>...</td>\n",
       "      <td>...</td>\n",
       "      <td>...</td>\n",
       "      <td>...</td>\n",
       "      <td>...</td>\n",
       "    </tr>\n",
       "    <tr>\n",
       "      <th>432</th>\n",
       "      <td>Julius Randle</td>\n",
       "      <td>F</td>\n",
       "      <td>1</td>\n",
       "      <td>2</td>\n",
       "      <td>206</td>\n",
       "      <td>113</td>\n",
       "      <td>1994</td>\n",
       "    </tr>\n",
       "    <tr>\n",
       "      <th>433</th>\n",
       "      <td>Pascal Siakam</td>\n",
       "      <td>F</td>\n",
       "      <td>1</td>\n",
       "      <td>2</td>\n",
       "      <td>206</td>\n",
       "      <td>104</td>\n",
       "      <td>1994</td>\n",
       "    </tr>\n",
       "    <tr>\n",
       "      <th>434</th>\n",
       "      <td>DeAndre Jordan</td>\n",
       "      <td>C</td>\n",
       "      <td>1</td>\n",
       "      <td>2</td>\n",
       "      <td>211</td>\n",
       "      <td>120</td>\n",
       "      <td>1988</td>\n",
       "    </tr>\n",
       "    <tr>\n",
       "      <th>435</th>\n",
       "      <td>Brook Lopez</td>\n",
       "      <td>C</td>\n",
       "      <td>1</td>\n",
       "      <td>2</td>\n",
       "      <td>213</td>\n",
       "      <td>124</td>\n",
       "      <td>1988</td>\n",
       "    </tr>\n",
       "    <tr>\n",
       "      <th>436</th>\n",
       "      <td>Kristaps Porzingis</td>\n",
       "      <td>F</td>\n",
       "      <td>1</td>\n",
       "      <td>2</td>\n",
       "      <td>221</td>\n",
       "      <td>108</td>\n",
       "      <td>1995</td>\n",
       "    </tr>\n",
       "  </tbody>\n",
       "</table>\n",
       "<p>64 rows × 7 columns</p>\n",
       "</div>"
      ],
      "text/plain": [
       "                   Name position  All_star_selections  In_Hall_of_fame  \\\n",
       "2          LeBron James        F                   17                2   \n",
       "30           Chris Paul        G                   11                2   \n",
       "31         Kevin Durant        F                   11                2   \n",
       "40      Carmelo Anthony        F                   10                2   \n",
       "46    Russell Westbrook        G                    9                2   \n",
       "..                  ...      ...                  ...              ...   \n",
       "432       Julius Randle        F                    1                2   \n",
       "433       Pascal Siakam        F                    1                2   \n",
       "434      DeAndre Jordan        C                    1                2   \n",
       "435         Brook Lopez        C                    1                2   \n",
       "436  Kristaps Porzingis        F                    1                2   \n",
       "\n",
       "     height  weight  born  \n",
       "2       203     113  1984  \n",
       "30      183      79  1985  \n",
       "31      206     108  1988  \n",
       "40      203     108  1984  \n",
       "46      190      90  1988  \n",
       "..      ...     ...   ...  \n",
       "432     206     113  1994  \n",
       "433     206     104  1994  \n",
       "434     211     120  1988  \n",
       "435     213     124  1988  \n",
       "436     221     108  1995  \n",
       "\n",
       "[64 rows x 7 columns]"
      ]
     },
     "execution_count": 498,
     "metadata": {},
     "output_type": "execute_result"
    }
   ],
   "source": [
    "curr_pls"
   ]
  },
  {
   "cell_type": "code",
   "execution_count": 499,
   "id": "c38872d6",
   "metadata": {},
   "outputs": [
    {
     "data": {
      "text/html": [
       "<div>\n",
       "<style scoped>\n",
       "    .dataframe tbody tr th:only-of-type {\n",
       "        vertical-align: middle;\n",
       "    }\n",
       "\n",
       "    .dataframe tbody tr th {\n",
       "        vertical-align: top;\n",
       "    }\n",
       "\n",
       "    .dataframe thead th {\n",
       "        text-align: right;\n",
       "    }\n",
       "</style>\n",
       "<table border=\"1\" class=\"dataframe\">\n",
       "  <thead>\n",
       "    <tr style=\"text-align: right;\">\n",
       "      <th></th>\n",
       "      <th>index</th>\n",
       "      <th>Name</th>\n",
       "      <th>position</th>\n",
       "      <th>All_star_selections</th>\n",
       "      <th>In_Hall_of_fame</th>\n",
       "      <th>height</th>\n",
       "      <th>weight</th>\n",
       "      <th>born</th>\n",
       "    </tr>\n",
       "  </thead>\n",
       "  <tbody>\n",
       "    <tr>\n",
       "      <th>0</th>\n",
       "      <td>2</td>\n",
       "      <td>LeBron James</td>\n",
       "      <td>F</td>\n",
       "      <td>17</td>\n",
       "      <td>2</td>\n",
       "      <td>203</td>\n",
       "      <td>113</td>\n",
       "      <td>1984</td>\n",
       "    </tr>\n",
       "    <tr>\n",
       "      <th>1</th>\n",
       "      <td>30</td>\n",
       "      <td>Chris Paul</td>\n",
       "      <td>G</td>\n",
       "      <td>11</td>\n",
       "      <td>2</td>\n",
       "      <td>183</td>\n",
       "      <td>79</td>\n",
       "      <td>1985</td>\n",
       "    </tr>\n",
       "    <tr>\n",
       "      <th>2</th>\n",
       "      <td>31</td>\n",
       "      <td>Kevin Durant</td>\n",
       "      <td>F</td>\n",
       "      <td>11</td>\n",
       "      <td>2</td>\n",
       "      <td>206</td>\n",
       "      <td>108</td>\n",
       "      <td>1988</td>\n",
       "    </tr>\n",
       "    <tr>\n",
       "      <th>3</th>\n",
       "      <td>40</td>\n",
       "      <td>Carmelo Anthony</td>\n",
       "      <td>F</td>\n",
       "      <td>10</td>\n",
       "      <td>2</td>\n",
       "      <td>203</td>\n",
       "      <td>108</td>\n",
       "      <td>1984</td>\n",
       "    </tr>\n",
       "    <tr>\n",
       "      <th>4</th>\n",
       "      <td>46</td>\n",
       "      <td>Russell Westbrook</td>\n",
       "      <td>G</td>\n",
       "      <td>9</td>\n",
       "      <td>2</td>\n",
       "      <td>190</td>\n",
       "      <td>90</td>\n",
       "      <td>1988</td>\n",
       "    </tr>\n",
       "    <tr>\n",
       "      <th>...</th>\n",
       "      <td>...</td>\n",
       "      <td>...</td>\n",
       "      <td>...</td>\n",
       "      <td>...</td>\n",
       "      <td>...</td>\n",
       "      <td>...</td>\n",
       "      <td>...</td>\n",
       "      <td>...</td>\n",
       "    </tr>\n",
       "    <tr>\n",
       "      <th>59</th>\n",
       "      <td>432</td>\n",
       "      <td>Julius Randle</td>\n",
       "      <td>F</td>\n",
       "      <td>1</td>\n",
       "      <td>2</td>\n",
       "      <td>206</td>\n",
       "      <td>113</td>\n",
       "      <td>1994</td>\n",
       "    </tr>\n",
       "    <tr>\n",
       "      <th>60</th>\n",
       "      <td>433</td>\n",
       "      <td>Pascal Siakam</td>\n",
       "      <td>F</td>\n",
       "      <td>1</td>\n",
       "      <td>2</td>\n",
       "      <td>206</td>\n",
       "      <td>104</td>\n",
       "      <td>1994</td>\n",
       "    </tr>\n",
       "    <tr>\n",
       "      <th>61</th>\n",
       "      <td>434</td>\n",
       "      <td>DeAndre Jordan</td>\n",
       "      <td>C</td>\n",
       "      <td>1</td>\n",
       "      <td>2</td>\n",
       "      <td>211</td>\n",
       "      <td>120</td>\n",
       "      <td>1988</td>\n",
       "    </tr>\n",
       "    <tr>\n",
       "      <th>62</th>\n",
       "      <td>435</td>\n",
       "      <td>Brook Lopez</td>\n",
       "      <td>C</td>\n",
       "      <td>1</td>\n",
       "      <td>2</td>\n",
       "      <td>213</td>\n",
       "      <td>124</td>\n",
       "      <td>1988</td>\n",
       "    </tr>\n",
       "    <tr>\n",
       "      <th>63</th>\n",
       "      <td>436</td>\n",
       "      <td>Kristaps Porzingis</td>\n",
       "      <td>F</td>\n",
       "      <td>1</td>\n",
       "      <td>2</td>\n",
       "      <td>221</td>\n",
       "      <td>108</td>\n",
       "      <td>1995</td>\n",
       "    </tr>\n",
       "  </tbody>\n",
       "</table>\n",
       "<p>64 rows × 8 columns</p>\n",
       "</div>"
      ],
      "text/plain": [
       "    index                Name position  All_star_selections  In_Hall_of_fame  \\\n",
       "0       2        LeBron James        F                   17                2   \n",
       "1      30          Chris Paul        G                   11                2   \n",
       "2      31        Kevin Durant        F                   11                2   \n",
       "3      40     Carmelo Anthony        F                   10                2   \n",
       "4      46   Russell Westbrook        G                    9                2   \n",
       "..    ...                 ...      ...                  ...              ...   \n",
       "59    432       Julius Randle        F                    1                2   \n",
       "60    433       Pascal Siakam        F                    1                2   \n",
       "61    434      DeAndre Jordan        C                    1                2   \n",
       "62    435         Brook Lopez        C                    1                2   \n",
       "63    436  Kristaps Porzingis        F                    1                2   \n",
       "\n",
       "    height  weight  born  \n",
       "0      203     113  1984  \n",
       "1      183      79  1985  \n",
       "2      206     108  1988  \n",
       "3      203     108  1984  \n",
       "4      190      90  1988  \n",
       "..     ...     ...   ...  \n",
       "59     206     113  1994  \n",
       "60     206     104  1994  \n",
       "61     211     120  1988  \n",
       "62     213     124  1988  \n",
       "63     221     108  1995  \n",
       "\n",
       "[64 rows x 8 columns]"
      ]
     },
     "execution_count": 499,
     "metadata": {},
     "output_type": "execute_result"
    }
   ],
   "source": [
    "curr_pls = curr_pls.reset_index()\n",
    "curr_pls"
   ]
  },
  {
   "cell_type": "markdown",
   "id": "1a177ac9",
   "metadata": {},
   "source": [
    "### Current players who will or will not make it to the Hall of Fame"
   ]
  },
  {
   "cell_type": "code",
   "execution_count": 500,
   "id": "e987a87b",
   "metadata": {},
   "outputs": [
    {
     "name": "stdout",
     "output_type": "stream",
     "text": [
      "    index                   Name position  All_star_selections  In_Hall_of_fame  height  weight  born  pred_HOF\n",
      "0       2           LeBron James        F                   17                2     203     113  1984         1\n",
      "1      30             Chris Paul        G                   11                2     183      79  1985         1\n",
      "2      31           Kevin Durant        F                   11                2     206     108  1988         1\n",
      "3      40        Carmelo Anthony        F                   10                2     203     108  1984         1\n",
      "4      46      Russell Westbrook        G                    9                2     190      90  1988         1\n",
      "5      47           James Harden        G                    9                2     196      99  1989         1\n",
      "6      59          Anthony Davis        F                    8                2     206      97  1968         1\n",
      "7      60          Dwight Howard        C                    8                2     211     120  1985         1\n",
      "8      80          Stephen Curry        G                    7                2     190      86  1988         1\n",
      "9      81           Kyrie Irving        G                    7                2     190      87  1992         1\n",
      "10     82            Paul George        F                    7                2     206      99  1990         1\n",
      "11     83      LaMarcus Aldridge        F                    7                2     211     117  1985         1\n",
      "12    104             Kyle Lowry        G                    6                2     183      92  1986         1\n",
      "13    105         Damian Lillard        G                    6                2     190      88  1990         1\n",
      "14    106          Blake Griffin        F                    6                2     208     113  1989         1\n",
      "15    133              John Wall        G                    5                2     193      88  1990         0\n",
      "16    134           Jimmy Butler        F                    5                2     201      99  1989         1\n",
      "17    135          Kawhi Leonard        F                    5                2     201     104  1991         1\n",
      "18    136          Klay Thompson        G                    5                2     201      97  1990         1\n",
      "19    137             Al Horford        C                    5                2     208     111  1986         1\n",
      "20    138             Kevin Love        F                    5                2     208     113  1988         1\n",
      "21    139  Giannis Antetokounmpo        F                    5                2     211     100  1994         1\n",
      "22    177            Rajon Rondo        G                    4                2     185      84  1986         0\n",
      "23    178          DeMar DeRozan        G                    4                2     201     100  1989         0\n",
      "24    179           Paul Millsap        F                    4                2     203     111  1985         0\n",
      "25    180           Kemba Walker        G                    4                2     203      95  1964         0\n",
      "26    181       DeMarcus Cousins        C                    4                2     211     122  1990         1\n",
      "27    182            Joel Embiid        C                    4                2     213     113  1994         1\n",
      "28    214           Derrick Rose        G                    3                2     190      86  1988         0\n",
      "29    215           Bradley Beal        G                    3                2     196      93  1993         0\n",
      "30    216         Draymond Green        F                    3                2     201     104  1990         0\n",
      "31    217           Nikola Jokic        C                    3                2     208     113  1995         0\n",
      "32    218            Ben Simmons        G                    3                2     211     109  1996         0\n",
      "33    219             Marc Gasol        C                    3                2     216     115  1985         0\n",
      "34    288       Donovan Mitchell        G                    2                2     185      98  1996         0\n",
      "35    289          Isaiah Thomas        G                    2                2     185      81  1961         0\n",
      "36    290         Victor Oladipo        G                    2                2     193      95  1992         0\n",
      "37    291           Devin Booker        G                    2                2     198      93  1996         0\n",
      "38    292            Luka Doncic        G                    2                2     201     104  1999         0\n",
      "39    293        Khris Middleton        F                    2                2     203     106  1991         0\n",
      "40    294           Jayson Tatum        F                    2                2     203      95  1998         0\n",
      "41    295         Andre Drummond        C                    2                2     211     126  1993         0\n",
      "42    296       Domantas Sabonis        F                    2                2     211     108  1996         0\n",
      "43    297     Karl-Anthony Towns        C                    2                2     213     110  1995         0\n",
      "44    298         Nikola Vucevic        C                    2                2     213     117  1990         0\n",
      "45    299            Rudy Gobert        C                    2                2     216     111  1992         0\n",
      "46    419            Mike Conley        G                    1                2     185      79  1987         0\n",
      "47    420             Trae Young        G                    1                2     185      74  1998         0\n",
      "48    421       D'Angelo Russell        G                    1                2     188      86  1994         0\n",
      "49    422            Jeff Teague        G                    1                2     188      84  1988         0\n",
      "50    423           Goran Dragic        G                    1                2     190      86  1986         0\n",
      "51    424           Jaylen Brown        F                    1                2     193      97  1992         0\n",
      "52    425           Jrue Holiday        G                    1                2     193      92  1990         0\n",
      "53    426            Zach LaVine        G                    1                2     196      85  1995         0\n",
      "54    427         Andre Iguodala        G                    1                2     198      97  1984         0\n",
      "55    428        Zion Williamson        F                    1                2     198     129  2000         0\n",
      "56    429         Gordon Hayward        F                    1                2     203     102  1990         0\n",
      "57    430            Bam Adebayo        C                    1                2     206     116  1997         0\n",
      "58    431         Brandon Ingram        F                    1                2     206      86  1997         0\n",
      "59    432          Julius Randle        F                    1                2     206     113  1994         0\n",
      "60    433          Pascal Siakam        F                    1                2     206     104  1994         0\n",
      "61    434         DeAndre Jordan        C                    1                2     211     120  1988         0\n",
      "62    435            Brook Lopez        C                    1                2     213     124  1988         0\n",
      "63    436     Kristaps Porzingis        F                    1                2     221     108  1995         0\n"
     ]
    }
   ],
   "source": [
    "NBcurr_pls = pd.concat([curr_pls, realPred], 1)\n",
    "NBcurr_pls = NBcurr_pls.dropna(axis=0)\n",
    "NBcurr_pls.rename(columns={0:\"pred_HOF\"}, inplace=True)\n",
    "print(NBcurr_pls.to_string())"
   ]
  },
  {
   "cell_type": "code",
   "execution_count": 517,
   "id": "2343017f",
   "metadata": {},
   "outputs": [
    {
     "data": {
      "text/plain": [
       "0    41\n",
       "1    23\n",
       "Name: pred_HOF, dtype: int64"
      ]
     },
     "execution_count": 517,
     "metadata": {},
     "output_type": "execute_result"
    }
   ],
   "source": [
    "NBcurr_pls['pred_HOF'].value_counts(dropna = False)"
   ]
  },
  {
   "cell_type": "code",
   "execution_count": 502,
   "id": "fbe30722",
   "metadata": {},
   "outputs": [
    {
     "name": "stdout",
     "output_type": "stream",
     "text": [
      "    index                   Name position  All_star_selections  In_Hall_of_fame  height  weight  born  pred_HOF\n",
      "0       2           LeBron James        F                   17                2     203     113  1984         1\n",
      "1      30             Chris Paul        G                   11                2     183      79  1985         0\n",
      "2      31           Kevin Durant        F                   11                2     206     108  1988         0\n",
      "3      40        Carmelo Anthony        F                   10                2     203     108  1984         1\n",
      "4      46      Russell Westbrook        G                    9                2     190      90  1988         0\n",
      "5      47           James Harden        G                    9                2     196      99  1989         0\n",
      "6      59          Anthony Davis        F                    8                2     206      97  1968         1\n",
      "7      60          Dwight Howard        C                    8                2     211     120  1985         0\n",
      "8      80          Stephen Curry        G                    7                2     190      86  1988         0\n",
      "9      81           Kyrie Irving        G                    7                2     190      87  1992         0\n",
      "10     82            Paul George        F                    7                2     206      99  1990         0\n",
      "11     83      LaMarcus Aldridge        F                    7                2     211     117  1985         0\n",
      "12    104             Kyle Lowry        G                    6                2     183      92  1986         0\n",
      "13    105         Damian Lillard        G                    6                2     190      88  1990         0\n",
      "14    106          Blake Griffin        F                    6                2     208     113  1989         0\n",
      "15    133              John Wall        G                    5                2     193      88  1990         0\n",
      "16    134           Jimmy Butler        F                    5                2     201      99  1989         0\n",
      "17    135          Kawhi Leonard        F                    5                2     201     104  1991         0\n",
      "18    136          Klay Thompson        G                    5                2     201      97  1990         0\n",
      "19    137             Al Horford        C                    5                2     208     111  1986         0\n",
      "20    138             Kevin Love        F                    5                2     208     113  1988         0\n",
      "21    139  Giannis Antetokounmpo        F                    5                2     211     100  1994         0\n",
      "22    177            Rajon Rondo        G                    4                2     185      84  1986         0\n",
      "23    178          DeMar DeRozan        G                    4                2     201     100  1989         0\n",
      "24    179           Paul Millsap        F                    4                2     203     111  1985         0\n",
      "25    180           Kemba Walker        G                    4                2     203      95  1964         1\n",
      "26    181       DeMarcus Cousins        C                    4                2     211     122  1990         0\n",
      "27    182            Joel Embiid        C                    4                2     213     113  1994         0\n",
      "28    214           Derrick Rose        G                    3                2     190      86  1988         0\n",
      "29    215           Bradley Beal        G                    3                2     196      93  1993         0\n",
      "30    216         Draymond Green        F                    3                2     201     104  1990         0\n",
      "31    217           Nikola Jokic        C                    3                2     208     113  1995         0\n",
      "32    218            Ben Simmons        G                    3                2     211     109  1996         0\n",
      "33    219             Marc Gasol        C                    3                2     216     115  1985         0\n",
      "34    288       Donovan Mitchell        G                    2                2     185      98  1996         0\n",
      "35    289          Isaiah Thomas        G                    2                2     185      81  1961         0\n",
      "36    290         Victor Oladipo        G                    2                2     193      95  1992         0\n",
      "37    291           Devin Booker        G                    2                2     198      93  1996         0\n",
      "38    292            Luka Doncic        G                    2                2     201     104  1999         0\n",
      "39    293        Khris Middleton        F                    2                2     203     106  1991         0\n",
      "40    294           Jayson Tatum        F                    2                2     203      95  1998         0\n",
      "41    295         Andre Drummond        C                    2                2     211     126  1993         0\n",
      "42    296       Domantas Sabonis        F                    2                2     211     108  1996         0\n",
      "43    297     Karl-Anthony Towns        C                    2                2     213     110  1995         0\n",
      "44    298         Nikola Vucevic        C                    2                2     213     117  1990         0\n",
      "45    299            Rudy Gobert        C                    2                2     216     111  1992         0\n",
      "46    419            Mike Conley        G                    1                2     185      79  1987         0\n",
      "47    420             Trae Young        G                    1                2     185      74  1998         0\n",
      "48    421       D'Angelo Russell        G                    1                2     188      86  1994         0\n",
      "49    422            Jeff Teague        G                    1                2     188      84  1988         0\n",
      "50    423           Goran Dragic        G                    1                2     190      86  1986         0\n",
      "51    424           Jaylen Brown        F                    1                2     193      97  1992         0\n",
      "52    425           Jrue Holiday        G                    1                2     193      92  1990         0\n",
      "53    426            Zach LaVine        G                    1                2     196      85  1995         0\n",
      "54    427         Andre Iguodala        G                    1                2     198      97  1984         0\n",
      "55    428        Zion Williamson        F                    1                2     198     129  2000         0\n",
      "56    429         Gordon Hayward        F                    1                2     203     102  1990         0\n",
      "57    430            Bam Adebayo        C                    1                2     206     116  1997         0\n",
      "58    431         Brandon Ingram        F                    1                2     206      86  1997         0\n",
      "59    432          Julius Randle        F                    1                2     206     113  1994         0\n",
      "60    433          Pascal Siakam        F                    1                2     206     104  1994         0\n",
      "61    434         DeAndre Jordan        C                    1                2     211     120  1988         0\n",
      "62    435            Brook Lopez        C                    1                2     213     124  1988         0\n",
      "63    436     Kristaps Porzingis        F                    1                2     221     108  1995         0\n"
     ]
    }
   ],
   "source": [
    "KNNcurr_pls = pd.concat([curr_pls, KNNrealPred], 1)\n",
    "KNNcurr_pls = KNNcurr_pls.dropna(axis=0)\n",
    "KNNcurr_pls\n",
    "KNNcurr_pls.rename(columns={0:\"pred_HOF\"}, inplace=True)\n",
    "print(KNNcurr_pls.to_string())"
   ]
  },
  {
   "cell_type": "code",
   "execution_count": 503,
   "id": "013c2eb2",
   "metadata": {},
   "outputs": [
    {
     "data": {
      "text/plain": [
       "0    60\n",
       "1     4\n",
       "Name: pred_HOF, dtype: int64"
      ]
     },
     "execution_count": 503,
     "metadata": {},
     "output_type": "execute_result"
    }
   ],
   "source": [
    "KNNcurr_pls['pred_HOF'].value_counts(dropna = False)"
   ]
  },
  {
   "cell_type": "code",
   "execution_count": 504,
   "id": "ecfef5fc",
   "metadata": {},
   "outputs": [
    {
     "name": "stdout",
     "output_type": "stream",
     "text": [
      "    index                   Name position  All_star_selections  In_Hall_of_fame  height  weight  born  pred_HOF\n",
      "0       2           LeBron James        F                   17                2     203     113  1984         1\n",
      "1      30             Chris Paul        G                   11                2     183      79  1985         0\n",
      "2      31           Kevin Durant        F                   11                2     206     108  1988         1\n",
      "3      40        Carmelo Anthony        F                   10                2     203     108  1984         1\n",
      "4      46      Russell Westbrook        G                    9                2     190      90  1988         0\n",
      "5      47           James Harden        G                    9                2     196      99  1989         0\n",
      "6      59          Anthony Davis        F                    8                2     206      97  1968         1\n",
      "7      60          Dwight Howard        C                    8                2     211     120  1985         1\n",
      "8      80          Stephen Curry        G                    7                2     190      86  1988         0\n",
      "9      81           Kyrie Irving        G                    7                2     190      87  1992         0\n",
      "10     82            Paul George        F                    7                2     206      99  1990         0\n",
      "11     83      LaMarcus Aldridge        F                    7                2     211     117  1985         0\n",
      "12    104             Kyle Lowry        G                    6                2     183      92  1986         0\n",
      "13    105         Damian Lillard        G                    6                2     190      88  1990         0\n",
      "14    106          Blake Griffin        F                    6                2     208     113  1989         0\n",
      "15    133              John Wall        G                    5                2     193      88  1990         0\n",
      "16    134           Jimmy Butler        F                    5                2     201      99  1989         0\n",
      "17    135          Kawhi Leonard        F                    5                2     201     104  1991         0\n",
      "18    136          Klay Thompson        G                    5                2     201      97  1990         0\n",
      "19    137             Al Horford        C                    5                2     208     111  1986         0\n",
      "20    138             Kevin Love        F                    5                2     208     113  1988         0\n",
      "21    139  Giannis Antetokounmpo        F                    5                2     211     100  1994         0\n",
      "22    177            Rajon Rondo        G                    4                2     185      84  1986         0\n",
      "23    178          DeMar DeRozan        G                    4                2     201     100  1989         0\n",
      "24    179           Paul Millsap        F                    4                2     203     111  1985         0\n",
      "25    180           Kemba Walker        G                    4                2     203      95  1964         0\n",
      "26    181       DeMarcus Cousins        C                    4                2     211     122  1990         0\n",
      "27    182            Joel Embiid        C                    4                2     213     113  1994         0\n",
      "28    214           Derrick Rose        G                    3                2     190      86  1988         0\n",
      "29    215           Bradley Beal        G                    3                2     196      93  1993         0\n",
      "30    216         Draymond Green        F                    3                2     201     104  1990         0\n",
      "31    217           Nikola Jokic        C                    3                2     208     113  1995         0\n",
      "32    218            Ben Simmons        G                    3                2     211     109  1996         0\n",
      "33    219             Marc Gasol        C                    3                2     216     115  1985         0\n",
      "34    288       Donovan Mitchell        G                    2                2     185      98  1996         0\n",
      "35    289          Isaiah Thomas        G                    2                2     185      81  1961         0\n",
      "36    290         Victor Oladipo        G                    2                2     193      95  1992         0\n",
      "37    291           Devin Booker        G                    2                2     198      93  1996         0\n",
      "38    292            Luka Doncic        G                    2                2     201     104  1999         0\n",
      "39    293        Khris Middleton        F                    2                2     203     106  1991         0\n",
      "40    294           Jayson Tatum        F                    2                2     203      95  1998         0\n",
      "41    295         Andre Drummond        C                    2                2     211     126  1993         0\n",
      "42    296       Domantas Sabonis        F                    2                2     211     108  1996         0\n",
      "43    297     Karl-Anthony Towns        C                    2                2     213     110  1995         0\n",
      "44    298         Nikola Vucevic        C                    2                2     213     117  1990         0\n",
      "45    299            Rudy Gobert        C                    2                2     216     111  1992         0\n",
      "46    419            Mike Conley        G                    1                2     185      79  1987         0\n",
      "47    420             Trae Young        G                    1                2     185      74  1998         0\n",
      "48    421       D'Angelo Russell        G                    1                2     188      86  1994         0\n",
      "49    422            Jeff Teague        G                    1                2     188      84  1988         0\n",
      "50    423           Goran Dragic        G                    1                2     190      86  1986         0\n",
      "51    424           Jaylen Brown        F                    1                2     193      97  1992         0\n",
      "52    425           Jrue Holiday        G                    1                2     193      92  1990         0\n",
      "53    426            Zach LaVine        G                    1                2     196      85  1995         0\n",
      "54    427         Andre Iguodala        G                    1                2     198      97  1984         0\n",
      "55    428        Zion Williamson        F                    1                2     198     129  2000         0\n",
      "56    429         Gordon Hayward        F                    1                2     203     102  1990         0\n",
      "57    430            Bam Adebayo        C                    1                2     206     116  1997         0\n",
      "58    431         Brandon Ingram        F                    1                2     206      86  1997         0\n",
      "59    432          Julius Randle        F                    1                2     206     113  1994         0\n",
      "60    433          Pascal Siakam        F                    1                2     206     104  1994         0\n",
      "61    434         DeAndre Jordan        C                    1                2     211     120  1988         0\n",
      "62    435            Brook Lopez        C                    1                2     213     124  1988         0\n",
      "63    436     Kristaps Porzingis        F                    1                2     221     108  1995         0\n"
     ]
    }
   ],
   "source": [
    "RFcurr_pls = pd.concat([curr_pls, RFrealPred], 1)\n",
    "RFcurr_pls = RFcurr_pls.dropna(axis=0)\n",
    "RFcurr_pls\n",
    "RFcurr_pls.rename(columns={0:\"pred_HOF\"}, inplace=True)\n",
    "print(RFcurr_pls.to_string())"
   ]
  },
  {
   "cell_type": "code",
   "execution_count": 505,
   "id": "f01ddc17",
   "metadata": {},
   "outputs": [
    {
     "data": {
      "text/plain": [
       "0    59\n",
       "1     5\n",
       "Name: pred_HOF, dtype: int64"
      ]
     },
     "execution_count": 505,
     "metadata": {},
     "output_type": "execute_result"
    }
   ],
   "source": [
    "RFcurr_pls['pred_HOF'].value_counts(dropna = False)"
   ]
  },
  {
   "cell_type": "code",
   "execution_count": 458,
   "id": "72954c18",
   "metadata": {},
   "outputs": [
    {
     "name": "stderr",
     "output_type": "stream",
     "text": [
      "<ipython-input-458-598cbe711bcf>:6: SettingWithCopyWarning: \n",
      "A value is trying to be set on a copy of a slice from a DataFrame.\n",
      "Try using .loc[row_indexer,col_indexer] = value instead\n",
      "\n",
      "See the caveats in the documentation: https://pandas.pydata.org/pandas-docs/stable/user_guide/indexing.html#returning-a-view-versus-a-copy\n",
      "  retired_player['Decade'] = pd.cut(retired_player['born'], bins, labels=group_names, include_lowest=True)\n"
     ]
    },
    {
     "data": {
      "image/png": "[encoded data removed]",
      "text/plain": [
       "<Figure size 576x360 with 1 Axes>"
      ]
     },
     "metadata": {
      "needs_background": "light"
     },
     "output_type": "display_data"
    }
   ],
   "source": [
    "\n",
    "group_names = [\"1920s\", \"1930s\", \"1940s\", \"1950s\",\n",
    "                \"1960s\", \"1970s\", \"1980s\", \"1990s\", \"2000s\"]\n",
    "group_names\n",
    "bins = np.linspace(1919, 2009, 10)\n",
    "\n",
    "retired_player['Decade'] = pd.cut(retired_player['born'], bins, labels=group_names, include_lowest=True)\n",
    "retired_player.head(5)\n",
    "\n",
    "\n",
    "\n",
    "plt.figure(figsize=(8, 5))\n",
    "sns.boxplot(x='Decade', y='All_star_selections',\n",
    "    data=retired_player, hue='In_Hall_of_fame', palette='rainbow')\n",
    "plt.xlabel(\"Decade when an NBA player was born\")\n",
    "plt.ylabel(\"Number of All-star selections\")\n",
    "plt.title(\"Number of All-star selections, NBA HOF\")\n",
    "plt.show()\n",
    "plt.close()"
   ]
  },
  {
   "cell_type": "markdown",
   "id": "4dad0eb0",
   "metadata": {},
   "source": []
  }
 ],
 "metadata": {
  "kernelspec": {
   "display_name": "Python 3",
   "language": "python",
   "name": "python3"
  },
  "language_info": {
   "codemirror_mode": {
    "name": "ipython",
    "version": 3
   },
   "file_extension": ".py",
   "mimetype": "text/x-python",
   "name": "python",
   "nbconvert_exporter": "python",
   "pygments_lexer": "ipython3",
   "version": "3.8.8"
  }
 },
 "nbformat": 4,
 "nbformat_minor": 5
}
